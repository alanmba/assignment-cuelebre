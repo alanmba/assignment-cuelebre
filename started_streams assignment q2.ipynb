{
 "cells": [
  {
   "cell_type": "code",
   "execution_count": 16,
   "metadata": {},
   "outputs": [],
   "source": [
    "import numpy as np\n",
    "import pandas as pd\n",
    "import matplotlib.pyplot as plt\n",
    "import seaborn as sns"
   ]
  },
  {
   "cell_type": "code",
   "execution_count": 4,
   "metadata": {},
   "outputs": [
    {
     "data": {
      "text/html": [
       "<div>\n",
       "<style scoped>\n",
       "    .dataframe tbody tr th:only-of-type {\n",
       "        vertical-align: middle;\n",
       "    }\n",
       "\n",
       "    .dataframe tbody tr th {\n",
       "        vertical-align: top;\n",
       "    }\n",
       "\n",
       "    .dataframe thead th {\n",
       "        text-align: right;\n",
       "    }\n",
       "</style>\n",
       "<table border=\"1\" class=\"dataframe\">\n",
       "  <thead>\n",
       "    <tr style=\"text-align: right;\">\n",
       "      <th></th>\n",
       "      <th>dt</th>\n",
       "      <th>time</th>\n",
       "      <th>device_name</th>\n",
       "      <th>house_number</th>\n",
       "      <th>user_id</th>\n",
       "      <th>country_code</th>\n",
       "      <th>program_title</th>\n",
       "      <th>season</th>\n",
       "      <th>season_episode</th>\n",
       "      <th>genre</th>\n",
       "      <th>product_type</th>\n",
       "    </tr>\n",
       "  </thead>\n",
       "  <tbody>\n",
       "    <tr>\n",
       "      <th>0</th>\n",
       "      <td>2018-10-01</td>\n",
       "      <td>09:19:15</td>\n",
       "      <td>pcdash</td>\n",
       "      <td>20431077</td>\n",
       "      <td>CFB707615C2C9132</td>\n",
       "      <td>no</td>\n",
       "      <td>Peppa Pig</td>\n",
       "      <td>2.0</td>\n",
       "      <td>S02E16</td>\n",
       "      <td>Series Kids</td>\n",
       "      <td>svod</td>\n",
       "    </tr>\n",
       "    <tr>\n",
       "      <th>1</th>\n",
       "      <td>2018-10-01</td>\n",
       "      <td>08:53:53</td>\n",
       "      <td>pcdash</td>\n",
       "      <td>20431072</td>\n",
       "      <td>CFB707615C2C9132</td>\n",
       "      <td>no</td>\n",
       "      <td>Peppa Pig</td>\n",
       "      <td>2.0</td>\n",
       "      <td>S02E11</td>\n",
       "      <td>Series Kids</td>\n",
       "      <td>svod</td>\n",
       "    </tr>\n",
       "    <tr>\n",
       "      <th>2</th>\n",
       "      <td>2018-10-01</td>\n",
       "      <td>20:24:34</td>\n",
       "      <td>pcdash</td>\n",
       "      <td>20209083</td>\n",
       "      <td>BzUtTh1jOyTjDIdW_7TDYSSyb2_VUrIO</td>\n",
       "      <td>dk</td>\n",
       "      <td>South Park</td>\n",
       "      <td>6.0</td>\n",
       "      <td>S06E08</td>\n",
       "      <td>Series Other</td>\n",
       "      <td>svod</td>\n",
       "    </tr>\n",
       "    <tr>\n",
       "      <th>3</th>\n",
       "      <td>2018-10-01</td>\n",
       "      <td>11:06:11</td>\n",
       "      <td>chromecast</td>\n",
       "      <td>20526429</td>\n",
       "      <td>STgzPEiXcj3olSd0ZEgeAypdXHb_tcrj</td>\n",
       "      <td>no</td>\n",
       "      <td>Adventure Time</td>\n",
       "      <td>9.0</td>\n",
       "      <td>S09E09</td>\n",
       "      <td>Series Kids</td>\n",
       "      <td>svod</td>\n",
       "    </tr>\n",
       "    <tr>\n",
       "      <th>4</th>\n",
       "      <td>2018-10-01</td>\n",
       "      <td>17:13:08</td>\n",
       "      <td>ios</td>\n",
       "      <td>20480461</td>\n",
       "      <td>8E0DF454830A552A</td>\n",
       "      <td>no</td>\n",
       "      <td>Teenage Mutant Ninja Turtles</td>\n",
       "      <td>4.0</td>\n",
       "      <td>S04E03</td>\n",
       "      <td>Series Kids</td>\n",
       "      <td>svod</td>\n",
       "    </tr>\n",
       "    <tr>\n",
       "      <th>...</th>\n",
       "      <td>...</td>\n",
       "      <td>...</td>\n",
       "      <td>...</td>\n",
       "      <td>...</td>\n",
       "      <td>...</td>\n",
       "      <td>...</td>\n",
       "      <td>...</td>\n",
       "      <td>...</td>\n",
       "      <td>...</td>\n",
       "      <td>...</td>\n",
       "      <td>...</td>\n",
       "    </tr>\n",
       "    <tr>\n",
       "      <th>99995</th>\n",
       "      <td>2018-10-01</td>\n",
       "      <td>17:53:39</td>\n",
       "      <td>pcdash</td>\n",
       "      <td>V23476</td>\n",
       "      <td>9cXptZ6KBZa3GKr8ql1ScIGJJ7gxbkeb</td>\n",
       "      <td>dk</td>\n",
       "      <td>24</td>\n",
       "      <td>2.0</td>\n",
       "      <td>S02E12</td>\n",
       "      <td>Series Other</td>\n",
       "      <td>svod</td>\n",
       "    </tr>\n",
       "    <tr>\n",
       "      <th>99996</th>\n",
       "      <td>2018-10-01</td>\n",
       "      <td>00:13:14</td>\n",
       "      <td>androiddash</td>\n",
       "      <td>S89817</td>\n",
       "      <td>tiuXC4_Vq96LgAsuV4mraF1YMklcjCO7</td>\n",
       "      <td>se</td>\n",
       "      <td>Tempelriddernes skat</td>\n",
       "      <td>NaN</td>\n",
       "      <td>NaN</td>\n",
       "      <td>Movies Other</td>\n",
       "      <td>svod</td>\n",
       "    </tr>\n",
       "    <tr>\n",
       "      <th>99997</th>\n",
       "      <td>2018-10-01</td>\n",
       "      <td>19:24:16</td>\n",
       "      <td>chromecast</td>\n",
       "      <td>20519544</td>\n",
       "      <td>ZNUqQO8GO6wcjnO5YY_q1BC36568Cpkz</td>\n",
       "      <td>dk</td>\n",
       "      <td>Robinson Ekspeditionen</td>\n",
       "      <td>20.0</td>\n",
       "      <td>S20E06</td>\n",
       "      <td>Own Production</td>\n",
       "      <td>svod</td>\n",
       "    </tr>\n",
       "    <tr>\n",
       "      <th>99998</th>\n",
       "      <td>2018-10-01</td>\n",
       "      <td>11:17:11</td>\n",
       "      <td>ios</td>\n",
       "      <td>20428581</td>\n",
       "      <td>4074475EA0B47F87</td>\n",
       "      <td>se</td>\n",
       "      <td>SpongeBob SquarePants</td>\n",
       "      <td>1.0</td>\n",
       "      <td>S01E07</td>\n",
       "      <td>Series Kids</td>\n",
       "      <td>svod</td>\n",
       "    </tr>\n",
       "    <tr>\n",
       "      <th>99999</th>\n",
       "      <td>2018-10-01</td>\n",
       "      <td>15:28:49</td>\n",
       "      <td>pcdash</td>\n",
       "      <td>20501983</td>\n",
       "      <td>593316F0F3AFAB2E</td>\n",
       "      <td>se</td>\n",
       "      <td>Paradise Hotel Sverige</td>\n",
       "      <td>9.0</td>\n",
       "      <td>S09E13</td>\n",
       "      <td>Own Production</td>\n",
       "      <td>svod</td>\n",
       "    </tr>\n",
       "  </tbody>\n",
       "</table>\n",
       "<p>100000 rows × 11 columns</p>\n",
       "</div>"
      ],
      "text/plain": [
       "              dt      time  device_name house_number  \\\n",
       "0     2018-10-01  09:19:15       pcdash     20431077   \n",
       "1     2018-10-01  08:53:53       pcdash     20431072   \n",
       "2     2018-10-01  20:24:34       pcdash     20209083   \n",
       "3     2018-10-01  11:06:11   chromecast     20526429   \n",
       "4     2018-10-01  17:13:08          ios     20480461   \n",
       "...          ...       ...          ...          ...   \n",
       "99995 2018-10-01  17:53:39       pcdash       V23476   \n",
       "99996 2018-10-01  00:13:14  androiddash       S89817   \n",
       "99997 2018-10-01  19:24:16   chromecast     20519544   \n",
       "99998 2018-10-01  11:17:11          ios     20428581   \n",
       "99999 2018-10-01  15:28:49       pcdash     20501983   \n",
       "\n",
       "                                user_id country_code  \\\n",
       "0                      CFB707615C2C9132           no   \n",
       "1                      CFB707615C2C9132           no   \n",
       "2      BzUtTh1jOyTjDIdW_7TDYSSyb2_VUrIO           dk   \n",
       "3      STgzPEiXcj3olSd0ZEgeAypdXHb_tcrj           no   \n",
       "4                      8E0DF454830A552A           no   \n",
       "...                                 ...          ...   \n",
       "99995  9cXptZ6KBZa3GKr8ql1ScIGJJ7gxbkeb           dk   \n",
       "99996  tiuXC4_Vq96LgAsuV4mraF1YMklcjCO7           se   \n",
       "99997  ZNUqQO8GO6wcjnO5YY_q1BC36568Cpkz           dk   \n",
       "99998                  4074475EA0B47F87           se   \n",
       "99999                  593316F0F3AFAB2E           se   \n",
       "\n",
       "                      program_title  season season_episode           genre  \\\n",
       "0                         Peppa Pig     2.0         S02E16     Series Kids   \n",
       "1                         Peppa Pig     2.0         S02E11     Series Kids   \n",
       "2                        South Park     6.0         S06E08    Series Other   \n",
       "3                    Adventure Time     9.0         S09E09     Series Kids   \n",
       "4      Teenage Mutant Ninja Turtles     4.0         S04E03     Series Kids   \n",
       "...                             ...     ...            ...             ...   \n",
       "99995                            24     2.0         S02E12    Series Other   \n",
       "99996          Tempelriddernes skat     NaN            NaN    Movies Other   \n",
       "99997        Robinson Ekspeditionen    20.0         S20E06  Own Production   \n",
       "99998         SpongeBob SquarePants     1.0         S01E07     Series Kids   \n",
       "99999        Paradise Hotel Sverige     9.0         S09E13  Own Production   \n",
       "\n",
       "      product_type  \n",
       "0             svod  \n",
       "1             svod  \n",
       "2             svod  \n",
       "3             svod  \n",
       "4             svod  \n",
       "...            ...  \n",
       "99995         svod  \n",
       "99996         svod  \n",
       "99997         svod  \n",
       "99998         svod  \n",
       "99999         svod  \n",
       "\n",
       "[100000 rows x 11 columns]"
      ]
     },
     "execution_count": 4,
     "metadata": {},
     "output_type": "execute_result"
    }
   ],
   "source": [
    "df=pd.read_excel(\"newstarted.xlsx\")\n",
    "df"
   ]
  },
  {
   "cell_type": "code",
   "execution_count": 7,
   "metadata": {},
   "outputs": [
    {
     "data": {
      "text/plain": [
       "dt                datetime64[ns]\n",
       "time                      object\n",
       "device_name               object\n",
       "house_number              object\n",
       "user_id                   object\n",
       "country_code              object\n",
       "program_title             object\n",
       "season                   float64\n",
       "season_episode            object\n",
       "genre                     object\n",
       "product_type              object\n",
       "dtype: object"
      ]
     },
     "execution_count": 7,
     "metadata": {},
     "output_type": "execute_result"
    }
   ],
   "source": [
    "df.dtypes"
   ]
  },
  {
   "cell_type": "code",
   "execution_count": 8,
   "metadata": {},
   "outputs": [
    {
     "data": {
      "text/html": [
       "<div>\n",
       "<style scoped>\n",
       "    .dataframe tbody tr th:only-of-type {\n",
       "        vertical-align: middle;\n",
       "    }\n",
       "\n",
       "    .dataframe tbody tr th {\n",
       "        vertical-align: top;\n",
       "    }\n",
       "\n",
       "    .dataframe thead th {\n",
       "        text-align: right;\n",
       "    }\n",
       "</style>\n",
       "<table border=\"1\" class=\"dataframe\">\n",
       "  <thead>\n",
       "    <tr style=\"text-align: right;\">\n",
       "      <th></th>\n",
       "      <th>dt</th>\n",
       "      <th>time</th>\n",
       "      <th>device_name</th>\n",
       "      <th>house_number</th>\n",
       "      <th>user_id</th>\n",
       "      <th>country_code</th>\n",
       "      <th>program_title</th>\n",
       "      <th>season</th>\n",
       "      <th>season_episode</th>\n",
       "      <th>genre</th>\n",
       "      <th>product_type</th>\n",
       "    </tr>\n",
       "  </thead>\n",
       "  <tbody>\n",
       "    <tr>\n",
       "      <th>0</th>\n",
       "      <td>2018-10-01</td>\n",
       "      <td>09:19:15</td>\n",
       "      <td>pcdash</td>\n",
       "      <td>20431077</td>\n",
       "      <td>CFB707615C2C9132</td>\n",
       "      <td>no</td>\n",
       "      <td>Peppa Pig</td>\n",
       "      <td>2.0</td>\n",
       "      <td>S02E16</td>\n",
       "      <td>Series Kids</td>\n",
       "      <td>svod</td>\n",
       "    </tr>\n",
       "    <tr>\n",
       "      <th>1</th>\n",
       "      <td>2018-10-01</td>\n",
       "      <td>08:53:53</td>\n",
       "      <td>pcdash</td>\n",
       "      <td>20431072</td>\n",
       "      <td>CFB707615C2C9132</td>\n",
       "      <td>no</td>\n",
       "      <td>Peppa Pig</td>\n",
       "      <td>2.0</td>\n",
       "      <td>S02E11</td>\n",
       "      <td>Series Kids</td>\n",
       "      <td>svod</td>\n",
       "    </tr>\n",
       "    <tr>\n",
       "      <th>2</th>\n",
       "      <td>2018-10-01</td>\n",
       "      <td>20:24:34</td>\n",
       "      <td>pcdash</td>\n",
       "      <td>20209083</td>\n",
       "      <td>BzUtTh1jOyTjDIdW_7TDYSSyb2_VUrIO</td>\n",
       "      <td>dk</td>\n",
       "      <td>South Park</td>\n",
       "      <td>6.0</td>\n",
       "      <td>S06E08</td>\n",
       "      <td>Series Other</td>\n",
       "      <td>svod</td>\n",
       "    </tr>\n",
       "    <tr>\n",
       "      <th>3</th>\n",
       "      <td>2018-10-01</td>\n",
       "      <td>11:06:11</td>\n",
       "      <td>chromecast</td>\n",
       "      <td>20526429</td>\n",
       "      <td>STgzPEiXcj3olSd0ZEgeAypdXHb_tcrj</td>\n",
       "      <td>no</td>\n",
       "      <td>Adventure Time</td>\n",
       "      <td>9.0</td>\n",
       "      <td>S09E09</td>\n",
       "      <td>Series Kids</td>\n",
       "      <td>svod</td>\n",
       "    </tr>\n",
       "    <tr>\n",
       "      <th>4</th>\n",
       "      <td>2018-10-01</td>\n",
       "      <td>17:13:08</td>\n",
       "      <td>ios</td>\n",
       "      <td>20480461</td>\n",
       "      <td>8E0DF454830A552A</td>\n",
       "      <td>no</td>\n",
       "      <td>Teenage Mutant Ninja Turtles</td>\n",
       "      <td>4.0</td>\n",
       "      <td>S04E03</td>\n",
       "      <td>Series Kids</td>\n",
       "      <td>svod</td>\n",
       "    </tr>\n",
       "  </tbody>\n",
       "</table>\n",
       "</div>"
      ],
      "text/plain": [
       "          dt      time device_name house_number  \\\n",
       "0 2018-10-01  09:19:15      pcdash     20431077   \n",
       "1 2018-10-01  08:53:53      pcdash     20431072   \n",
       "2 2018-10-01  20:24:34      pcdash     20209083   \n",
       "3 2018-10-01  11:06:11  chromecast     20526429   \n",
       "4 2018-10-01  17:13:08         ios     20480461   \n",
       "\n",
       "                            user_id country_code  \\\n",
       "0                  CFB707615C2C9132           no   \n",
       "1                  CFB707615C2C9132           no   \n",
       "2  BzUtTh1jOyTjDIdW_7TDYSSyb2_VUrIO           dk   \n",
       "3  STgzPEiXcj3olSd0ZEgeAypdXHb_tcrj           no   \n",
       "4                  8E0DF454830A552A           no   \n",
       "\n",
       "                  program_title  season season_episode         genre  \\\n",
       "0                     Peppa Pig     2.0         S02E16   Series Kids   \n",
       "1                     Peppa Pig     2.0         S02E11   Series Kids   \n",
       "2                    South Park     6.0         S06E08  Series Other   \n",
       "3                Adventure Time     9.0         S09E09   Series Kids   \n",
       "4  Teenage Mutant Ninja Turtles     4.0         S04E03   Series Kids   \n",
       "\n",
       "  product_type  \n",
       "0         svod  \n",
       "1         svod  \n",
       "2         svod  \n",
       "3         svod  \n",
       "4         svod  "
      ]
     },
     "execution_count": 8,
     "metadata": {},
     "output_type": "execute_result"
    }
   ],
   "source": [
    "df.head()"
   ]
  },
  {
   "cell_type": "code",
   "execution_count": 9,
   "metadata": {},
   "outputs": [
    {
     "data": {
      "text/plain": [
       "Index(['dt', 'time', 'device_name', 'house_number', 'user_id', 'country_code',\n",
       "       'program_title', 'season', 'season_episode', 'genre', 'product_type'],\n",
       "      dtype='object')"
      ]
     },
     "execution_count": 9,
     "metadata": {},
     "output_type": "execute_result"
    }
   ],
   "source": [
    "df.columns"
   ]
  },
  {
   "cell_type": "code",
   "execution_count": 13,
   "metadata": {},
   "outputs": [
    {
     "name": "stdout",
     "output_type": "stream",
     "text": [
      "Shape of the dataset:  (100000, 11)\n"
     ]
    }
   ],
   "source": [
    "# looking at the shape of the dataset\n",
    "\n",
    "print(\"Shape of the dataset: \",df.shape)"
   ]
  },
  {
   "cell_type": "code",
   "execution_count": 14,
   "metadata": {},
   "outputs": [
    {
     "name": "stdout",
     "output_type": "stream",
     "text": [
      "<class 'pandas.core.frame.DataFrame'>\n",
      "RangeIndex: 100000 entries, 0 to 99999\n",
      "Data columns (total 11 columns):\n",
      " #   Column          Non-Null Count   Dtype         \n",
      "---  ------          --------------   -----         \n",
      " 0   dt              100000 non-null  datetime64[ns]\n",
      " 1   time            100000 non-null  object        \n",
      " 2   device_name     100000 non-null  object        \n",
      " 3   house_number    100000 non-null  object        \n",
      " 4   user_id         94441 non-null   object        \n",
      " 5   country_code    94430 non-null   object        \n",
      " 6   program_title   94430 non-null   object        \n",
      " 7   season          83984 non-null   float64       \n",
      " 8   season_episode  80227 non-null   object        \n",
      " 9   genre           93555 non-null   object        \n",
      " 10  product_type    93555 non-null   object        \n",
      "dtypes: datetime64[ns](1), float64(1), object(9)\n",
      "memory usage: 8.4+ MB\n",
      "The info of the dataset None\n"
     ]
    }
   ],
   "source": [
    "# Checking the info\n",
    "\n",
    "print(\"The info of the dataset\",df.info())"
   ]
  },
  {
   "cell_type": "markdown",
   "metadata": {},
   "source": [
    "# EDA"
   ]
  },
  {
   "cell_type": "code",
   "execution_count": 15,
   "metadata": {},
   "outputs": [
    {
     "data": {
      "text/plain": [
       "<matplotlib.axes._subplots.AxesSubplot at 0x12d1c823d30>"
      ]
     },
     "execution_count": 15,
     "metadata": {},
     "output_type": "execute_result"
    },
    {
     "data": {
      "image/png": "[encoded data removed]",
      "text/plain": [
       "<Figure size 432x288 with 1 Axes>"
      ]
     },
     "metadata": {
      "needs_background": "light"
     },
     "output_type": "display_data"
    }
   ],
   "source": [
    "# checking for missing values\n",
    "\n",
    "missing_val=df.isnull().sum()\n",
    "missing_val=missing_val[missing_val>0]\n",
    "missing_val.sort_values(ascending=False).plot(kind='barh')"
   ]
  },
  {
   "cell_type": "code",
   "execution_count": 17,
   "metadata": {},
   "outputs": [
    {
     "data": {
      "text/html": [
       "<div>\n",
       "<style scoped>\n",
       "    .dataframe tbody tr th:only-of-type {\n",
       "        vertical-align: middle;\n",
       "    }\n",
       "\n",
       "    .dataframe tbody tr th {\n",
       "        vertical-align: top;\n",
       "    }\n",
       "\n",
       "    .dataframe thead th {\n",
       "        text-align: right;\n",
       "    }\n",
       "</style>\n",
       "<table border=\"1\" class=\"dataframe\">\n",
       "  <thead>\n",
       "    <tr style=\"text-align: right;\">\n",
       "      <th></th>\n",
       "      <th>dt</th>\n",
       "      <th>time</th>\n",
       "      <th>device_name</th>\n",
       "      <th>house_number</th>\n",
       "      <th>user_id</th>\n",
       "      <th>country_code</th>\n",
       "      <th>program_title</th>\n",
       "      <th>season</th>\n",
       "      <th>season_episode</th>\n",
       "      <th>genre</th>\n",
       "      <th>product_type</th>\n",
       "    </tr>\n",
       "  </thead>\n",
       "  <tbody>\n",
       "    <tr>\n",
       "      <th>26</th>\n",
       "      <td>2018-10-01</td>\n",
       "      <td>10:56:47</td>\n",
       "      <td>pcdash</td>\n",
       "      <td>V44087</td>\n",
       "      <td>PvdxHw_rbn01sS9NFXjNDor06llRlDJZ</td>\n",
       "      <td>no</td>\n",
       "      <td>Lilo &amp; Stitch 2: Stitch Has a Glitch</td>\n",
       "      <td>NaN</td>\n",
       "      <td>NaN</td>\n",
       "      <td>Movies Kids</td>\n",
       "      <td>svod</td>\n",
       "    </tr>\n",
       "    <tr>\n",
       "      <th>28</th>\n",
       "      <td>2018-10-01</td>\n",
       "      <td>17:00:26</td>\n",
       "      <td>androiddash</td>\n",
       "      <td>2820000000000000000</td>\n",
       "      <td>Eq0jNWUnYSrjSUbWn_ALPDOOG3bXmDVb</td>\n",
       "      <td>se</td>\n",
       "      <td>The Big Bang Theory</td>\n",
       "      <td>NaN</td>\n",
       "      <td>NaN</td>\n",
       "      <td>Other</td>\n",
       "      <td>svod</td>\n",
       "    </tr>\n",
       "    <tr>\n",
       "      <th>36</th>\n",
       "      <td>2018-10-01</td>\n",
       "      <td>17:58:56</td>\n",
       "      <td>ios</td>\n",
       "      <td>5420000000000000000</td>\n",
       "      <td>tB0UKkZSSMODQPBooUxcNjAULdaDnUy9</td>\n",
       "      <td>no</td>\n",
       "      <td>Eliteserien: TromsÌü - Brann</td>\n",
       "      <td>NaN</td>\n",
       "      <td>NaN</td>\n",
       "      <td>Sports</td>\n",
       "      <td>svod</td>\n",
       "    </tr>\n",
       "    <tr>\n",
       "      <th>37</th>\n",
       "      <td>2018-10-01</td>\n",
       "      <td>14:53:14</td>\n",
       "      <td>atv</td>\n",
       "      <td>20538388</td>\n",
       "      <td>_NblCo7YXxfbO8hpZ_t2iZgTthNH2D5O</td>\n",
       "      <td>se</td>\n",
       "      <td>NHL Live</td>\n",
       "      <td>2015.0</td>\n",
       "      <td>NaN</td>\n",
       "      <td>Sports</td>\n",
       "      <td>svod</td>\n",
       "    </tr>\n",
       "    <tr>\n",
       "      <th>41</th>\n",
       "      <td>2018-10-01</td>\n",
       "      <td>08:28:49</td>\n",
       "      <td>atv</td>\n",
       "      <td>20437134</td>\n",
       "      <td>1F336261697E3059</td>\n",
       "      <td>se</td>\n",
       "      <td>The Fate of the Furious</td>\n",
       "      <td>NaN</td>\n",
       "      <td>NaN</td>\n",
       "      <td>Movies Other</td>\n",
       "      <td>svod</td>\n",
       "    </tr>\n",
       "    <tr>\n",
       "      <th>...</th>\n",
       "      <td>...</td>\n",
       "      <td>...</td>\n",
       "      <td>...</td>\n",
       "      <td>...</td>\n",
       "      <td>...</td>\n",
       "      <td>...</td>\n",
       "      <td>...</td>\n",
       "      <td>...</td>\n",
       "      <td>...</td>\n",
       "      <td>...</td>\n",
       "      <td>...</td>\n",
       "    </tr>\n",
       "    <tr>\n",
       "      <th>99960</th>\n",
       "      <td>2018-10-01</td>\n",
       "      <td>18:47:25</td>\n",
       "      <td>chromecast</td>\n",
       "      <td>20526618</td>\n",
       "      <td>qh4M_7dEgGW7IIyLGRxPdOiuOF9GLbjn</td>\n",
       "      <td>se</td>\n",
       "      <td>Deadpool 2</td>\n",
       "      <td>NaN</td>\n",
       "      <td>NaN</td>\n",
       "      <td>Movies Other</td>\n",
       "      <td>tvod</td>\n",
       "    </tr>\n",
       "    <tr>\n",
       "      <th>99968</th>\n",
       "      <td>2018-10-01</td>\n",
       "      <td>14:32:27</td>\n",
       "      <td>pcdash</td>\n",
       "      <td>20471941</td>\n",
       "      <td>2768180BE51DA3FA</td>\n",
       "      <td>no</td>\n",
       "      <td>Chicken Little</td>\n",
       "      <td>NaN</td>\n",
       "      <td>NaN</td>\n",
       "      <td>Movies Kids</td>\n",
       "      <td>est</td>\n",
       "    </tr>\n",
       "    <tr>\n",
       "      <th>99989</th>\n",
       "      <td>2018-10-01</td>\n",
       "      <td>20:42:29</td>\n",
       "      <td>atv</td>\n",
       "      <td>47400000000000000000</td>\n",
       "      <td>lV8KtGfuD3y36t_WlXtCDzZ2RfPj3U3I</td>\n",
       "      <td>se</td>\n",
       "      <td>WEG 2018: Daily Review</td>\n",
       "      <td>NaN</td>\n",
       "      <td>NaN</td>\n",
       "      <td>Sports</td>\n",
       "      <td>svod</td>\n",
       "    </tr>\n",
       "    <tr>\n",
       "      <th>99990</th>\n",
       "      <td>2018-10-01</td>\n",
       "      <td>16:19:06</td>\n",
       "      <td>pcdashpr</td>\n",
       "      <td>20526618</td>\n",
       "      <td>ME_qPH58htcBI9JbtINOP_mhEFLo6ruq</td>\n",
       "      <td>se</td>\n",
       "      <td>Deadpool 2</td>\n",
       "      <td>NaN</td>\n",
       "      <td>NaN</td>\n",
       "      <td>Movies Other</td>\n",
       "      <td>tvod</td>\n",
       "    </tr>\n",
       "    <tr>\n",
       "      <th>99996</th>\n",
       "      <td>2018-10-01</td>\n",
       "      <td>00:13:14</td>\n",
       "      <td>androiddash</td>\n",
       "      <td>S89817</td>\n",
       "      <td>tiuXC4_Vq96LgAsuV4mraF1YMklcjCO7</td>\n",
       "      <td>se</td>\n",
       "      <td>Tempelriddernes skat</td>\n",
       "      <td>NaN</td>\n",
       "      <td>NaN</td>\n",
       "      <td>Movies Other</td>\n",
       "      <td>svod</td>\n",
       "    </tr>\n",
       "  </tbody>\n",
       "</table>\n",
       "<p>19773 rows × 11 columns</p>\n",
       "</div>"
      ],
      "text/plain": [
       "              dt      time  device_name          house_number  \\\n",
       "26    2018-10-01  10:56:47       pcdash                V44087   \n",
       "28    2018-10-01  17:00:26  androiddash   2820000000000000000   \n",
       "36    2018-10-01  17:58:56          ios   5420000000000000000   \n",
       "37    2018-10-01  14:53:14          atv              20538388   \n",
       "41    2018-10-01  08:28:49          atv              20437134   \n",
       "...          ...       ...          ...                   ...   \n",
       "99960 2018-10-01  18:47:25   chromecast              20526618   \n",
       "99968 2018-10-01  14:32:27       pcdash              20471941   \n",
       "99989 2018-10-01  20:42:29          atv  47400000000000000000   \n",
       "99990 2018-10-01  16:19:06     pcdashpr              20526618   \n",
       "99996 2018-10-01  00:13:14  androiddash                S89817   \n",
       "\n",
       "                                user_id country_code  \\\n",
       "26     PvdxHw_rbn01sS9NFXjNDor06llRlDJZ           no   \n",
       "28     Eq0jNWUnYSrjSUbWn_ALPDOOG3bXmDVb           se   \n",
       "36     tB0UKkZSSMODQPBooUxcNjAULdaDnUy9           no   \n",
       "37     _NblCo7YXxfbO8hpZ_t2iZgTthNH2D5O           se   \n",
       "41                     1F336261697E3059           se   \n",
       "...                                 ...          ...   \n",
       "99960  qh4M_7dEgGW7IIyLGRxPdOiuOF9GLbjn           se   \n",
       "99968                  2768180BE51DA3FA           no   \n",
       "99989  lV8KtGfuD3y36t_WlXtCDzZ2RfPj3U3I           se   \n",
       "99990  ME_qPH58htcBI9JbtINOP_mhEFLo6ruq           se   \n",
       "99996  tiuXC4_Vq96LgAsuV4mraF1YMklcjCO7           se   \n",
       "\n",
       "                              program_title  season season_episode  \\\n",
       "26     Lilo & Stitch 2: Stitch Has a Glitch     NaN            NaN   \n",
       "28                      The Big Bang Theory     NaN            NaN   \n",
       "36             Eliteserien: TromsÌü - Brann     NaN            NaN   \n",
       "37                                 NHL Live  2015.0            NaN   \n",
       "41                  The Fate of the Furious     NaN            NaN   \n",
       "...                                     ...     ...            ...   \n",
       "99960                            Deadpool 2     NaN            NaN   \n",
       "99968                        Chicken Little     NaN            NaN   \n",
       "99989                WEG 2018: Daily Review     NaN            NaN   \n",
       "99990                            Deadpool 2     NaN            NaN   \n",
       "99996                  Tempelriddernes skat     NaN            NaN   \n",
       "\n",
       "              genre product_type  \n",
       "26      Movies Kids         svod  \n",
       "28            Other         svod  \n",
       "36           Sports         svod  \n",
       "37           Sports         svod  \n",
       "41     Movies Other         svod  \n",
       "...             ...          ...  \n",
       "99960  Movies Other         tvod  \n",
       "99968   Movies Kids          est  \n",
       "99989        Sports         svod  \n",
       "99990  Movies Other         tvod  \n",
       "99996  Movies Other         svod  \n",
       "\n",
       "[19773 rows x 11 columns]"
      ]
     },
     "execution_count": 17,
     "metadata": {},
     "output_type": "execute_result"
    }
   ],
   "source": [
    "# retrieving the missing row\n",
    "df[df['season_episode'].isnull()]"
   ]
  },
  {
   "cell_type": "markdown",
   "metadata": {},
   "source": [
    "# season_episode and season has missing values in the same row. the row can be dropped as no more information loss"
   ]
  },
  {
   "cell_type": "code",
   "execution_count": 20,
   "metadata": {},
   "outputs": [
    {
     "data": {
      "text/html": [
       "<div>\n",
       "<style scoped>\n",
       "    .dataframe tbody tr th:only-of-type {\n",
       "        vertical-align: middle;\n",
       "    }\n",
       "\n",
       "    .dataframe tbody tr th {\n",
       "        vertical-align: top;\n",
       "    }\n",
       "\n",
       "    .dataframe thead th {\n",
       "        text-align: right;\n",
       "    }\n",
       "</style>\n",
       "<table border=\"1\" class=\"dataframe\">\n",
       "  <thead>\n",
       "    <tr style=\"text-align: right;\">\n",
       "      <th></th>\n",
       "      <th>dt</th>\n",
       "      <th>time</th>\n",
       "      <th>device_name</th>\n",
       "      <th>house_number</th>\n",
       "      <th>user_id</th>\n",
       "      <th>country_code</th>\n",
       "      <th>program_title</th>\n",
       "      <th>season</th>\n",
       "      <th>season_episode</th>\n",
       "      <th>genre</th>\n",
       "      <th>product_type</th>\n",
       "    </tr>\n",
       "  </thead>\n",
       "  <tbody>\n",
       "    <tr>\n",
       "      <th>0</th>\n",
       "      <td>2018-10-01</td>\n",
       "      <td>09:19:15</td>\n",
       "      <td>pcdash</td>\n",
       "      <td>20431077</td>\n",
       "      <td>CFB707615C2C9132</td>\n",
       "      <td>no</td>\n",
       "      <td>Peppa Pig</td>\n",
       "      <td>2.0</td>\n",
       "      <td>S02E16</td>\n",
       "      <td>Series Kids</td>\n",
       "      <td>svod</td>\n",
       "    </tr>\n",
       "    <tr>\n",
       "      <th>1</th>\n",
       "      <td>2018-10-01</td>\n",
       "      <td>08:53:53</td>\n",
       "      <td>pcdash</td>\n",
       "      <td>20431072</td>\n",
       "      <td>CFB707615C2C9132</td>\n",
       "      <td>no</td>\n",
       "      <td>Peppa Pig</td>\n",
       "      <td>2.0</td>\n",
       "      <td>S02E11</td>\n",
       "      <td>Series Kids</td>\n",
       "      <td>svod</td>\n",
       "    </tr>\n",
       "    <tr>\n",
       "      <th>2</th>\n",
       "      <td>2018-10-01</td>\n",
       "      <td>20:24:34</td>\n",
       "      <td>pcdash</td>\n",
       "      <td>20209083</td>\n",
       "      <td>BzUtTh1jOyTjDIdW_7TDYSSyb2_VUrIO</td>\n",
       "      <td>dk</td>\n",
       "      <td>South Park</td>\n",
       "      <td>6.0</td>\n",
       "      <td>S06E08</td>\n",
       "      <td>Series Other</td>\n",
       "      <td>svod</td>\n",
       "    </tr>\n",
       "    <tr>\n",
       "      <th>3</th>\n",
       "      <td>2018-10-01</td>\n",
       "      <td>11:06:11</td>\n",
       "      <td>chromecast</td>\n",
       "      <td>20526429</td>\n",
       "      <td>STgzPEiXcj3olSd0ZEgeAypdXHb_tcrj</td>\n",
       "      <td>no</td>\n",
       "      <td>Adventure Time</td>\n",
       "      <td>9.0</td>\n",
       "      <td>S09E09</td>\n",
       "      <td>Series Kids</td>\n",
       "      <td>svod</td>\n",
       "    </tr>\n",
       "    <tr>\n",
       "      <th>4</th>\n",
       "      <td>2018-10-01</td>\n",
       "      <td>17:13:08</td>\n",
       "      <td>ios</td>\n",
       "      <td>20480461</td>\n",
       "      <td>8E0DF454830A552A</td>\n",
       "      <td>no</td>\n",
       "      <td>Teenage Mutant Ninja Turtles</td>\n",
       "      <td>4.0</td>\n",
       "      <td>S04E03</td>\n",
       "      <td>Series Kids</td>\n",
       "      <td>svod</td>\n",
       "    </tr>\n",
       "    <tr>\n",
       "      <th>...</th>\n",
       "      <td>...</td>\n",
       "      <td>...</td>\n",
       "      <td>...</td>\n",
       "      <td>...</td>\n",
       "      <td>...</td>\n",
       "      <td>...</td>\n",
       "      <td>...</td>\n",
       "      <td>...</td>\n",
       "      <td>...</td>\n",
       "      <td>...</td>\n",
       "      <td>...</td>\n",
       "    </tr>\n",
       "    <tr>\n",
       "      <th>99994</th>\n",
       "      <td>2018-10-01</td>\n",
       "      <td>14:18:09</td>\n",
       "      <td>samsung2016xdk</td>\n",
       "      <td>20437828</td>\n",
       "      <td>OqQnQepB69hIvvZCgk1qb4EbFXkmrbmx</td>\n",
       "      <td>se</td>\n",
       "      <td>Blaze and the Monster Machines</td>\n",
       "      <td>2.0</td>\n",
       "      <td>S02E19</td>\n",
       "      <td>Series Kids</td>\n",
       "      <td>svod</td>\n",
       "    </tr>\n",
       "    <tr>\n",
       "      <th>99995</th>\n",
       "      <td>2018-10-01</td>\n",
       "      <td>17:53:39</td>\n",
       "      <td>pcdash</td>\n",
       "      <td>V23476</td>\n",
       "      <td>9cXptZ6KBZa3GKr8ql1ScIGJJ7gxbkeb</td>\n",
       "      <td>dk</td>\n",
       "      <td>24</td>\n",
       "      <td>2.0</td>\n",
       "      <td>S02E12</td>\n",
       "      <td>Series Other</td>\n",
       "      <td>svod</td>\n",
       "    </tr>\n",
       "    <tr>\n",
       "      <th>99997</th>\n",
       "      <td>2018-10-01</td>\n",
       "      <td>19:24:16</td>\n",
       "      <td>chromecast</td>\n",
       "      <td>20519544</td>\n",
       "      <td>ZNUqQO8GO6wcjnO5YY_q1BC36568Cpkz</td>\n",
       "      <td>dk</td>\n",
       "      <td>Robinson Ekspeditionen</td>\n",
       "      <td>20.0</td>\n",
       "      <td>S20E06</td>\n",
       "      <td>Own Production</td>\n",
       "      <td>svod</td>\n",
       "    </tr>\n",
       "    <tr>\n",
       "      <th>99998</th>\n",
       "      <td>2018-10-01</td>\n",
       "      <td>11:17:11</td>\n",
       "      <td>ios</td>\n",
       "      <td>20428581</td>\n",
       "      <td>4074475EA0B47F87</td>\n",
       "      <td>se</td>\n",
       "      <td>SpongeBob SquarePants</td>\n",
       "      <td>1.0</td>\n",
       "      <td>S01E07</td>\n",
       "      <td>Series Kids</td>\n",
       "      <td>svod</td>\n",
       "    </tr>\n",
       "    <tr>\n",
       "      <th>99999</th>\n",
       "      <td>2018-10-01</td>\n",
       "      <td>15:28:49</td>\n",
       "      <td>pcdash</td>\n",
       "      <td>20501983</td>\n",
       "      <td>593316F0F3AFAB2E</td>\n",
       "      <td>se</td>\n",
       "      <td>Paradise Hotel Sverige</td>\n",
       "      <td>9.0</td>\n",
       "      <td>S09E13</td>\n",
       "      <td>Own Production</td>\n",
       "      <td>svod</td>\n",
       "    </tr>\n",
       "  </tbody>\n",
       "</table>\n",
       "<p>80227 rows × 11 columns</p>\n",
       "</div>"
      ],
      "text/plain": [
       "              dt      time     device_name house_number  \\\n",
       "0     2018-10-01  09:19:15          pcdash     20431077   \n",
       "1     2018-10-01  08:53:53          pcdash     20431072   \n",
       "2     2018-10-01  20:24:34          pcdash     20209083   \n",
       "3     2018-10-01  11:06:11      chromecast     20526429   \n",
       "4     2018-10-01  17:13:08             ios     20480461   \n",
       "...          ...       ...             ...          ...   \n",
       "99994 2018-10-01  14:18:09  samsung2016xdk     20437828   \n",
       "99995 2018-10-01  17:53:39          pcdash       V23476   \n",
       "99997 2018-10-01  19:24:16      chromecast     20519544   \n",
       "99998 2018-10-01  11:17:11             ios     20428581   \n",
       "99999 2018-10-01  15:28:49          pcdash     20501983   \n",
       "\n",
       "                                user_id country_code  \\\n",
       "0                      CFB707615C2C9132           no   \n",
       "1                      CFB707615C2C9132           no   \n",
       "2      BzUtTh1jOyTjDIdW_7TDYSSyb2_VUrIO           dk   \n",
       "3      STgzPEiXcj3olSd0ZEgeAypdXHb_tcrj           no   \n",
       "4                      8E0DF454830A552A           no   \n",
       "...                                 ...          ...   \n",
       "99994  OqQnQepB69hIvvZCgk1qb4EbFXkmrbmx           se   \n",
       "99995  9cXptZ6KBZa3GKr8ql1ScIGJJ7gxbkeb           dk   \n",
       "99997  ZNUqQO8GO6wcjnO5YY_q1BC36568Cpkz           dk   \n",
       "99998                  4074475EA0B47F87           se   \n",
       "99999                  593316F0F3AFAB2E           se   \n",
       "\n",
       "                        program_title  season season_episode           genre  \\\n",
       "0                           Peppa Pig     2.0         S02E16     Series Kids   \n",
       "1                           Peppa Pig     2.0         S02E11     Series Kids   \n",
       "2                          South Park     6.0         S06E08    Series Other   \n",
       "3                      Adventure Time     9.0         S09E09     Series Kids   \n",
       "4        Teenage Mutant Ninja Turtles     4.0         S04E03     Series Kids   \n",
       "...                               ...     ...            ...             ...   \n",
       "99994  Blaze and the Monster Machines     2.0         S02E19     Series Kids   \n",
       "99995                              24     2.0         S02E12    Series Other   \n",
       "99997          Robinson Ekspeditionen    20.0         S20E06  Own Production   \n",
       "99998           SpongeBob SquarePants     1.0         S01E07     Series Kids   \n",
       "99999          Paradise Hotel Sverige     9.0         S09E13  Own Production   \n",
       "\n",
       "      product_type  \n",
       "0             svod  \n",
       "1             svod  \n",
       "2             svod  \n",
       "3             svod  \n",
       "4             svod  \n",
       "...            ...  \n",
       "99994         svod  \n",
       "99995         svod  \n",
       "99997         svod  \n",
       "99998         svod  \n",
       "99999         svod  \n",
       "\n",
       "[80227 rows x 11 columns]"
      ]
     },
     "execution_count": 20,
     "metadata": {},
     "output_type": "execute_result"
    }
   ],
   "source": [
    "# dropping the missing rows\n",
    "df.dropna(inplace=True)\n",
    "df\n"
   ]
  },
  {
   "cell_type": "code",
   "execution_count": 21,
   "metadata": {},
   "outputs": [
    {
     "data": {
      "text/plain": [
       "dt                0\n",
       "time              0\n",
       "device_name       0\n",
       "house_number      0\n",
       "user_id           0\n",
       "country_code      0\n",
       "program_title     0\n",
       "season            0\n",
       "season_episode    0\n",
       "genre             0\n",
       "product_type      0\n",
       "dtype: int64"
      ]
     },
     "execution_count": 21,
     "metadata": {},
     "output_type": "execute_result"
    }
   ],
   "source": [
    "df.isnull().sum()"
   ]
  },
  {
   "cell_type": "code",
   "execution_count": 28,
   "metadata": {},
   "outputs": [
    {
     "data": {
      "text/plain": [
       "dt                    1\n",
       "time              47724\n",
       "device_name          28\n",
       "house_number      12204\n",
       "user_id           59990\n",
       "country_code          4\n",
       "program_title       425\n",
       "season               28\n",
       "season_episode      942\n",
       "genre                 4\n",
       "product_type          1\n",
       "dtype: int64"
      ]
     },
     "execution_count": 28,
     "metadata": {},
     "output_type": "execute_result"
    }
   ],
   "source": [
    "df.nunique()"
   ]
  },
  {
   "cell_type": "code",
   "execution_count": 29,
   "metadata": {},
   "outputs": [
    {
     "name": "stdout",
     "output_type": "stream",
     "text": [
      "7_SuCZsfIAelvUKndybPWPJoMUydFzms    30\n",
      "q9EBmiK9_KreRjEgMfdRdq3jlU7eTbnp    24\n",
      "Q_t269pb8JPGGkXgfehiyiqU46Yduv0N    18\n",
      "BD37C17D66C33849                    17\n",
      "DF7D6B9CD1FBE313                    16\n",
      "                                    ..\n",
      "BF1F1F3C793A8735                     1\n",
      "2ED39CBF8C190772                     1\n",
      "Tsqt9MvFMSwrFJC1Octv1l3jOfsIkcP_     1\n",
      "DAAA37051AEE8A53                     1\n",
      "rHIXOwx_QQfx0Coq5GVw4TRNkvusVMyf     1\n",
      "Name: user_id, Length: 59990, dtype: int64\n"
     ]
    }
   ],
   "source": [
    "print(df['user_id'].value_counts())"
   ]
  },
  {
   "cell_type": "code",
   "execution_count": 30,
   "metadata": {},
   "outputs": [
    {
     "name": "stdout",
     "output_type": "stream",
     "text": [
      "2018-10-01    80227\n",
      "Name: dt, dtype: int64\n"
     ]
    }
   ],
   "source": [
    "print(df['dt'].value_counts())"
   ]
  },
  {
   "cell_type": "code",
   "execution_count": 31,
   "metadata": {},
   "outputs": [
    {
     "name": "stdout",
     "output_type": "stream",
     "text": [
      "Peppa Pig                      3647\n",
      "Robinson Ekspeditionen         3484\n",
      "Paradise Hotel Sverige         3346\n",
      "PAW Patrol                     2873\n",
      "Family Guy                     2388\n",
      "                               ... \n",
      "Ettor & Nollor                    1\n",
      "Home Team: Florida Panthers       1\n",
      "Feherty                           1\n",
      "En dag i livet                    1\n",
      "Side Effects                      1\n",
      "Name: program_title, Length: 425, dtype: int64\n"
     ]
    }
   ],
   "source": [
    "print(df['program_title'].value_counts())"
   ]
  },
  {
   "cell_type": "code",
   "execution_count": 32,
   "metadata": {},
   "outputs": [
    {
     "name": "stdout",
     "output_type": "stream",
     "text": [
      "ios               16324\n",
      "pcdash            11215\n",
      "atv                9673\n",
      "chromecast         9448\n",
      "androiddash        7149\n",
      "ps4xdk             4851\n",
      "samsung2017xdk     2578\n",
      "pchls              2190\n",
      "samsung2016xdk     2161\n",
      "samsung2015xdk     1849\n",
      "samsung2014xdk     1743\n",
      "androidxdk         1639\n",
      "lg2016xdk          1443\n",
      "lg2017xdk          1418\n",
      "samsung2013xdk     1285\n",
      "xboxonexdk          876\n",
      "samsung2012xdk      801\n",
      "lg2015xdk           707\n",
      "ps3xdk              634\n",
      "pcdashpr            588\n",
      "lg2013xdk           573\n",
      "lg2014xdk           277\n",
      "samsung2018xdk      198\n",
      "panasonic2014       174\n",
      "philips2017xdk      154\n",
      "lg2012xdk           152\n",
      "lg2018xdk           119\n",
      "pc                    8\n",
      "Name: device_name, dtype: int64\n"
     ]
    }
   ],
   "source": [
    "print(df['device_name'].value_counts())"
   ]
  },
  {
   "cell_type": "code",
   "execution_count": 33,
   "metadata": {},
   "outputs": [
    {
     "name": "stdout",
     "output_type": "stream",
     "text": [
      "se    29588\n",
      "dk    28558\n",
      "no    15079\n",
      "fi     7002\n",
      "Name: country_code, dtype: int64\n"
     ]
    }
   ],
   "source": [
    "print(df['country_code'].value_counts())"
   ]
  },
  {
   "cell_type": "code",
   "execution_count": 34,
   "metadata": {},
   "outputs": [
    {
     "name": "stdout",
     "output_type": "stream",
     "text": [
      "svod    80227\n",
      "Name: product_type, dtype: int64\n"
     ]
    }
   ],
   "source": [
    "print(df['product_type'].value_counts())"
   ]
  },
  {
   "cell_type": "code",
   "execution_count": 37,
   "metadata": {},
   "outputs": [
    {
     "name": "stdout",
     "output_type": "stream",
     "text": [
      "ios               16324\n",
      "pcdash            11215\n",
      "atv                9673\n",
      "chromecast         9448\n",
      "androiddash        7149\n",
      "ps4xdk             4851\n",
      "samsung2017xdk     2578\n",
      "pchls              2190\n",
      "samsung2016xdk     2161\n",
      "samsung2015xdk     1849\n",
      "samsung2014xdk     1743\n",
      "androidxdk         1639\n",
      "lg2016xdk          1443\n",
      "lg2017xdk          1418\n",
      "samsung2013xdk     1285\n",
      "xboxonexdk          876\n",
      "samsung2012xdk      801\n",
      "lg2015xdk           707\n",
      "ps3xdk              634\n",
      "pcdashpr            588\n",
      "lg2013xdk           573\n",
      "lg2014xdk           277\n",
      "samsung2018xdk      198\n",
      "panasonic2014       174\n",
      "philips2017xdk      154\n",
      "lg2012xdk           152\n",
      "lg2018xdk           119\n",
      "pc                    8\n",
      "Name: device_name, dtype: int64\n",
      "*****************************************************************************************************************************\n"
     ]
    },
    {
     "data": {
      "text/plain": [
       "<matplotlib.axes._subplots.AxesSubplot at 0x12d1c99db50>"
      ]
     },
     "execution_count": 37,
     "metadata": {},
     "output_type": "execute_result"
    },
    {
     "data": {
      "image/png": "[encoded data removed]",
      "text/plain": [
       "<Figure size 576x432 with 1 Axes>"
      ]
     },
     "metadata": {
      "needs_background": "light"
     },
     "output_type": "display_data"
    }
   ],
   "source": [
    "print(df['device_name'].value_counts())\n",
    "print(\"*\"*125)\n",
    "plt.figure(figsize=(8,6))\n",
    "sns.countplot(y=df.device_name.sort_values())"
   ]
  },
  {
   "cell_type": "code",
   "execution_count": 40,
   "metadata": {},
   "outputs": [
    {
     "name": "stdout",
     "output_type": "stream",
     "text": [
      "svod    80227\n",
      "Name: product_type, dtype: int64\n",
      "*****************************************************************************************************************************\n"
     ]
    },
    {
     "data": {
      "text/plain": [
       "<matplotlib.axes._subplots.AxesSubplot at 0x12d1c99dee0>"
      ]
     },
     "execution_count": 40,
     "metadata": {},
     "output_type": "execute_result"
    },
    {
     "data": {
      "image/png": "[encoded data removed]",
      "text/plain": [
       "<Figure size 576x432 with 1 Axes>"
      ]
     },
     "metadata": {
      "needs_background": "light"
     },
     "output_type": "display_data"
    }
   ],
   "source": [
    "print(df['product_type'].value_counts())\n",
    "print(\"*\"*125)\n",
    "plt.figure(figsize=(8,6))\n",
    "sns.countplot(y=df.product_type.sort_values())"
   ]
  },
  {
   "cell_type": "code",
   "execution_count": 45,
   "metadata": {},
   "outputs": [
    {
     "name": "stdout",
     "output_type": "stream",
     "text": [
      "user_id                           program_title                 \n",
      "634000000000000000000             Blaze and the Monster Machines    3\n",
      "00023248160A15EE                  South Park                        1\n",
      "000C0972D15DBC51                  Game Shakers                      1\n",
      "                                  PAW Patrol                        1\n",
      "0014Ocg4PtC3DFBoUEiG6dU_oBVLTVpG  Robinson Ekspeditionen            1\n",
      "                                                                   ..\n",
      "zzjh5fi718DXCDTb1NrmBZ0yQm8fFK7_  Robinson Ekspeditionen            1\n",
      "zzmBQj4CjnlmdaBEFoJImrSIKc9iNehp  The Good Doctor                   2\n",
      "                                  Svenska Hollywoodfruar            1\n",
      "zzvXB0_9YXzN7NqcCmb3trCossg1nugY  Quantico                          1\n",
      "zzxtR15adPcakoQKN7ibCpaEp5g1O_yW  Bones                             1\n",
      "Name: program_title, Length: 64803, dtype: int64\n"
     ]
    }
   ],
   "source": [
    "\n",
    "print(df.groupby(\"user_id\")[\"program_title\"].value_counts())"
   ]
  },
  {
   "cell_type": "code",
   "execution_count": 42,
   "metadata": {},
   "outputs": [
    {
     "name": "stdout",
     "output_type": "stream",
     "text": [
      "user_id                           product_type\n",
      "634000000000000000000             svod            3\n",
      "00023248160A15EE                  svod            1\n",
      "000C0972D15DBC51                  svod            2\n",
      "0014Ocg4PtC3DFBoUEiG6dU_oBVLTVpG  svod            1\n",
      "0017B276ADBE6914                  svod            1\n",
      "                                                 ..\n",
      "zzfVgFpEpp2hSrvIVv0AjL5DEhwvIlmN  svod            1\n",
      "zzjh5fi718DXCDTb1NrmBZ0yQm8fFK7_  svod            1\n",
      "zzmBQj4CjnlmdaBEFoJImrSIKc9iNehp  svod            3\n",
      "zzvXB0_9YXzN7NqcCmb3trCossg1nugY  svod            1\n",
      "zzxtR15adPcakoQKN7ibCpaEp5g1O_yW  svod            1\n",
      "Name: product_type, Length: 59990, dtype: int64\n"
     ]
    }
   ],
   "source": [
    "\n",
    "print(df.groupby(\"user_id\")[\"product_type\"].value_counts())"
   ]
  },
  {
   "cell_type": "code",
   "execution_count": 51,
   "metadata": {},
   "outputs": [
    {
     "name": "stdout",
     "output_type": "stream",
     "text": [
      "The categoriacal columns in the dataset []\n",
      "_____________________________________________________________________________________________________________________________\n"
     ]
    },
    {
     "data": {
      "text/html": [
       "<div>\n",
       "<style scoped>\n",
       "    .dataframe tbody tr th:only-of-type {\n",
       "        vertical-align: middle;\n",
       "    }\n",
       "\n",
       "    .dataframe tbody tr th {\n",
       "        vertical-align: top;\n",
       "    }\n",
       "\n",
       "    .dataframe thead th {\n",
       "        text-align: right;\n",
       "    }\n",
       "</style>\n",
       "<table border=\"1\" class=\"dataframe\">\n",
       "  <thead>\n",
       "    <tr style=\"text-align: right;\">\n",
       "      <th></th>\n",
       "    </tr>\n",
       "  </thead>\n",
       "  <tbody>\n",
       "    <tr>\n",
       "      <th>0</th>\n",
       "    </tr>\n",
       "    <tr>\n",
       "      <th>1</th>\n",
       "    </tr>\n",
       "    <tr>\n",
       "      <th>2</th>\n",
       "    </tr>\n",
       "    <tr>\n",
       "      <th>3</th>\n",
       "    </tr>\n",
       "    <tr>\n",
       "      <th>4</th>\n",
       "    </tr>\n",
       "  </tbody>\n",
       "</table>\n",
       "</div>"
      ],
      "text/plain": [
       "Empty DataFrame\n",
       "Columns: []\n",
       "Index: [0, 1, 2, 3, 4]"
      ]
     },
     "execution_count": 51,
     "metadata": {},
     "output_type": "execute_result"
    }
   ],
   "source": [
    "# Exploring categorical variable\n",
    "\n",
    "cat_col=[x for x in df.columns if df[x].dtypes==\"O\"and x not in ['dt', 'time', 'device_name', 'house_number', 'user_id', 'country_code',\n",
    "       'program_title', 'season', 'season_episode', 'genre', 'product_type']]\n",
    "print(\"The categoriacal columns in the dataset\",cat_col)\n",
    "print(\"_\"*125)\n",
    "df[cat_col].head()"
   ]
  },
  {
   "cell_type": "code",
   "execution_count": 50,
   "metadata": {},
   "outputs": [
    {
     "data": {
      "text/plain": [
       "Index(['dt', 'time', 'device_name', 'house_number', 'user_id', 'country_code',\n",
       "       'program_title', 'season', 'season_episode', 'genre', 'product_type'],\n",
       "      dtype='object')"
      ]
     },
     "execution_count": 50,
     "metadata": {},
     "output_type": "execute_result"
    }
   ],
   "source": [
    "df.columns"
   ]
  },
  {
   "cell_type": "code",
   "execution_count": 52,
   "metadata": {},
   "outputs": [
    {
     "data": {
      "text/html": [
       "<div>\n",
       "<style scoped>\n",
       "    .dataframe tbody tr th:only-of-type {\n",
       "        vertical-align: middle;\n",
       "    }\n",
       "\n",
       "    .dataframe tbody tr th {\n",
       "        vertical-align: top;\n",
       "    }\n",
       "\n",
       "    .dataframe thead th {\n",
       "        text-align: right;\n",
       "    }\n",
       "</style>\n",
       "<table border=\"1\" class=\"dataframe\">\n",
       "  <thead>\n",
       "    <tr style=\"text-align: right;\">\n",
       "      <th></th>\n",
       "      <th>dt</th>\n",
       "      <th>time</th>\n",
       "      <th>device_name</th>\n",
       "      <th>house_number</th>\n",
       "      <th>user_id</th>\n",
       "      <th>country_code</th>\n",
       "      <th>program_title</th>\n",
       "      <th>season</th>\n",
       "      <th>season_episode</th>\n",
       "      <th>genre</th>\n",
       "      <th>product_type</th>\n",
       "    </tr>\n",
       "  </thead>\n",
       "  <tbody>\n",
       "    <tr>\n",
       "      <th>0</th>\n",
       "      <td>2018-10-01</td>\n",
       "      <td>09:19:15</td>\n",
       "      <td>pcdash</td>\n",
       "      <td>20431077</td>\n",
       "      <td>CFB707615C2C9132</td>\n",
       "      <td>no</td>\n",
       "      <td>Peppa Pig</td>\n",
       "      <td>2.0</td>\n",
       "      <td>S02E16</td>\n",
       "      <td>Series Kids</td>\n",
       "      <td>svod</td>\n",
       "    </tr>\n",
       "    <tr>\n",
       "      <th>1</th>\n",
       "      <td>2018-10-01</td>\n",
       "      <td>08:53:53</td>\n",
       "      <td>pcdash</td>\n",
       "      <td>20431072</td>\n",
       "      <td>CFB707615C2C9132</td>\n",
       "      <td>no</td>\n",
       "      <td>Peppa Pig</td>\n",
       "      <td>2.0</td>\n",
       "      <td>S02E11</td>\n",
       "      <td>Series Kids</td>\n",
       "      <td>svod</td>\n",
       "    </tr>\n",
       "    <tr>\n",
       "      <th>2</th>\n",
       "      <td>2018-10-01</td>\n",
       "      <td>20:24:34</td>\n",
       "      <td>pcdash</td>\n",
       "      <td>20209083</td>\n",
       "      <td>BzUtTh1jOyTjDIdW_7TDYSSyb2_VUrIO</td>\n",
       "      <td>dk</td>\n",
       "      <td>South Park</td>\n",
       "      <td>6.0</td>\n",
       "      <td>S06E08</td>\n",
       "      <td>Series Other</td>\n",
       "      <td>svod</td>\n",
       "    </tr>\n",
       "    <tr>\n",
       "      <th>3</th>\n",
       "      <td>2018-10-01</td>\n",
       "      <td>11:06:11</td>\n",
       "      <td>chromecast</td>\n",
       "      <td>20526429</td>\n",
       "      <td>STgzPEiXcj3olSd0ZEgeAypdXHb_tcrj</td>\n",
       "      <td>no</td>\n",
       "      <td>Adventure Time</td>\n",
       "      <td>9.0</td>\n",
       "      <td>S09E09</td>\n",
       "      <td>Series Kids</td>\n",
       "      <td>svod</td>\n",
       "    </tr>\n",
       "    <tr>\n",
       "      <th>4</th>\n",
       "      <td>2018-10-01</td>\n",
       "      <td>17:13:08</td>\n",
       "      <td>ios</td>\n",
       "      <td>20480461</td>\n",
       "      <td>8E0DF454830A552A</td>\n",
       "      <td>no</td>\n",
       "      <td>Teenage Mutant Ninja Turtles</td>\n",
       "      <td>4.0</td>\n",
       "      <td>S04E03</td>\n",
       "      <td>Series Kids</td>\n",
       "      <td>svod</td>\n",
       "    </tr>\n",
       "  </tbody>\n",
       "</table>\n",
       "</div>"
      ],
      "text/plain": [
       "          dt      time device_name house_number  \\\n",
       "0 2018-10-01  09:19:15      pcdash     20431077   \n",
       "1 2018-10-01  08:53:53      pcdash     20431072   \n",
       "2 2018-10-01  20:24:34      pcdash     20209083   \n",
       "3 2018-10-01  11:06:11  chromecast     20526429   \n",
       "4 2018-10-01  17:13:08         ios     20480461   \n",
       "\n",
       "                            user_id country_code  \\\n",
       "0                  CFB707615C2C9132           no   \n",
       "1                  CFB707615C2C9132           no   \n",
       "2  BzUtTh1jOyTjDIdW_7TDYSSyb2_VUrIO           dk   \n",
       "3  STgzPEiXcj3olSd0ZEgeAypdXHb_tcrj           no   \n",
       "4                  8E0DF454830A552A           no   \n",
       "\n",
       "                  program_title  season season_episode         genre  \\\n",
       "0                     Peppa Pig     2.0         S02E16   Series Kids   \n",
       "1                     Peppa Pig     2.0         S02E11   Series Kids   \n",
       "2                    South Park     6.0         S06E08  Series Other   \n",
       "3                Adventure Time     9.0         S09E09   Series Kids   \n",
       "4  Teenage Mutant Ninja Turtles     4.0         S04E03   Series Kids   \n",
       "\n",
       "  product_type  \n",
       "0         svod  \n",
       "1         svod  \n",
       "2         svod  \n",
       "3         svod  \n",
       "4         svod  "
      ]
     },
     "execution_count": 52,
     "metadata": {},
     "output_type": "execute_result"
    }
   ],
   "source": [
    "df.head()"
   ]
  },
  {
   "cell_type": "code",
   "execution_count": 58,
   "metadata": {},
   "outputs": [],
   "source": [
    "# checking the nunique and value counts for each categorical column\n",
    "for feature in cat_col:\n",
    "    print(\"Value counts in\",feature)\n",
    "    print(df[feature].value_counts())\n",
    "    print(\"*\"*70)"
   ]
  },
  {
   "cell_type": "code",
   "execution_count": 59,
   "metadata": {},
   "outputs": [
    {
     "data": {
      "text/plain": [
       "array(['CFB707615C2C9132', 'BzUtTh1jOyTjDIdW_7TDYSSyb2_VUrIO',\n",
       "       'STgzPEiXcj3olSd0ZEgeAypdXHb_tcrj', ...,\n",
       "       'bPjz0NeraCu_wZ9kYcng9I34RP1Y8Umk',\n",
       "       'ddavIpB2mLD_Z_MpzicsoMogk_AnRyoi',\n",
       "       'ZNUqQO8GO6wcjnO5YY_q1BC36568Cpkz'], dtype=object)"
      ]
     },
     "execution_count": 59,
     "metadata": {},
     "output_type": "execute_result"
    }
   ],
   "source": [
    "df['user_id'].unique()"
   ]
  },
  {
   "cell_type": "code",
   "execution_count": 60,
   "metadata": {},
   "outputs": [
    {
     "data": {
      "text/plain": [
       "array(['pcdash', 'chromecast', 'ios', 'ps4xdk', 'samsung2017xdk',\n",
       "       'lg2016xdk', 'samsung2013xdk', 'lg2017xdk', 'androiddash',\n",
       "       'samsung2015xdk', 'androidxdk', 'samsung2014xdk', 'pchls', 'atv',\n",
       "       'xboxonexdk', 'samsung2016xdk', 'lg2013xdk', 'samsung2012xdk',\n",
       "       'lg2014xdk', 'ps3xdk', 'lg2015xdk', 'panasonic2014', 'pcdashpr',\n",
       "       'philips2017xdk', 'lg2018xdk', 'samsung2018xdk', 'lg2012xdk', 'pc'],\n",
       "      dtype=object)"
      ]
     },
     "execution_count": 60,
     "metadata": {},
     "output_type": "execute_result"
    }
   ],
   "source": [
    "df['device_name'].unique()"
   ]
  },
  {
   "cell_type": "code",
   "execution_count": 61,
   "metadata": {},
   "outputs": [
    {
     "data": {
      "text/plain": [
       "array(['Peppa Pig', 'South Park', 'Adventure Time',\n",
       "       'Teenage Mutant Ninja Turtles', 'Paradise Hotel Sverige',\n",
       "       'Seinfeld', 'Quantico', 'NCIS', 'Glee', 'Mad Men',\n",
       "       'School of Rock', 'MÌ´lklubben', 'Futurama',\n",
       "       'Robinson Ekspeditionen', 'Family Guy', 'Til Middag Hos',\n",
       "       'Love Island Norge', 'The Night Shift', 'Swedish Dicks',\n",
       "       'Hemliga beundrare', 'PAW Patrol', 'Fireman Sam', 'Tree Fu Tom',\n",
       "       'Okkupert', 'Blaze and the Monster Machines',\n",
       "       'How I Met Your Mother', 'Dagens mand', 'American Dad',\n",
       "       'Blindspot', 'TV3 DokumentÌ?r', 'New Amsterdam',\n",
       "       'Buffy the Vampire Slayer', 'Aber Bergen',\n",
       "       \"It's Always Sunny in Philadelphia\", 'NCIS: Los Angeles', 'Bones',\n",
       "       'The Powerpuff Girls', 'Lego City', 'Haven', 'Dora the Explorer',\n",
       "       'The Walking Dead', 'Prison Break', 'Bordertown', 'Absentia',\n",
       "       'Vikings', 'The Brave', 'Henry Danger', 'Frasier', 'Will & Grace',\n",
       "       'Poketto Monsut€\\x81', 'The Blacklist', 'The Cleveland Show',\n",
       "       'White Collar', 'Community', 'Kevin Can Wait',\n",
       "       'Postman Pat: Special Delivery Service',\n",
       "       'The Penguins of Madagascar', 'The Good Wife',\n",
       "       'Paradise Hotel Norge', 'Angry Birds Toons',\n",
       "       'My Little Pony: Friendship is Magic', 'Unga Mammor',\n",
       "       'Paradise Hotel Danmark', 'Timeless', 'The Fosters',\n",
       "       'The Amazing World of Gumball', 'Bosch', 'Last Man Standing',\n",
       "       'Nashville', 'Empire', 'Hunter Street', 'Forsidefruer',\n",
       "       'American Woman', 'Doc McStuffins',\n",
       "       '100 Things To Do Before High School', 'Ingen utan skuld',\n",
       "       'Scrubs', 'Shimmer and Shine',\n",
       "       'The Late Late Show with James Corden', 'Lethal Weapon',\n",
       "       'Care Bears: Welcome to Care-a-Lot', 'Soy Luna', 'The Thundermans',\n",
       "       'Adventures of Chuck & Friends', 'The Haunted Hathaways',\n",
       "       'Familien fra Bryggen', 'S.W.A.T.', 'iCarly', 'HÌ´nd i hÌ´nd',\n",
       "       'The Backyardigans', 'Svenska Hollywoodfruar', 'Gossip Girl',\n",
       "       'Beyond', 'Winx Club', 'Hard Knocks', 'The X-Files',\n",
       "       'Animal Kingdom', 'Sam & Cat', 'Dora and Friends: Into the City!',\n",
       "       'Counterpart', 'Wayward Pines', 'BÌürnelokkerne', 'Game Shakers',\n",
       "       'Angel', 'Victorious', 'Unfabulous', 'Clarence', 'Notorious',\n",
       "       'SpongeBob SquarePants', 'Luksusfellen', 'Charterfeber',\n",
       "       'Masha i Medved', 'Love Island UK', 'Unikitty!', 'The Loud House',\n",
       "       'We Bare Bears', 'My Name Is Earl', 'Black-ish',\n",
       "       \"Philip K. Dick's Electric Dreams\", 'The Good Doctor', 'Outlander',\n",
       "       'Teen Titans Go!', 'LuksusfÌ?lden', 'Lie to Me', 'SvartsjÌ¦n',\n",
       "       'Team Umizoomi', 'Unforgettable', 'The Fairly OddParents',\n",
       "       'The Affair', 'Gone', 'Atlanta', 'Liv and Maddie',\n",
       "       'Divaer i junglen', 'Harvey Beaks',\n",
       "       'Ninjago: Masters of Spinjitzu',\n",
       "       'Cloudy With A Chance Of Meatballs', 'Jessie', 'Myths & Monsters',\n",
       "       'Magnum P.I.', 'Prison Break Sequel', 'Ray Donovan',\n",
       "       'Scream Queens', 'Thunderbirds Are Go', 24, 'King of the Hill',\n",
       "       'The Royals', 'Outsiders', 'Mr. Robot', 'VÌ´r tid Ì?r nu',\n",
       "       'Kung Fu Panda: Legends of Awesomeness', 'Marvin Marvin',\n",
       "       'Lego Chima', 'Billions', 'KÌ?rlighed i krise', 'Ride',\n",
       "       'Graceland', 'Angry Birds Blues', \"Marvel's Agent Carter\",\n",
       "       'Rig 45', 'Ben 10', 'Big Time Rush', \"Bob's Burgers\",\n",
       "       'Eventyrlig oppussing', 'Peppy Pals', 'Ultimate Spider-Man',\n",
       "       'Star Wars Rebels', 'Last Man on Earth', 'Den Store VÌ?gtkamp',\n",
       "       'Danmarks Modigste', 'Efterlyst', 'Bubble Guppies',\n",
       "       'Sunny Bunnies', 'Fresh Off the Boat', 'Bella and the Bulldogs',\n",
       "       'Are You the One? - Sverige', 'Cirkus Magaluf',\n",
       "       'Mozart in the Jungle', 'Modus', 'Better Things',\n",
       "       'Besat af Bad Boys', 'Babar and the Adventures of Badou',\n",
       "       'Cam & Leon', 'Maria Wern', 'X Company', 'Familien Nielsen',\n",
       "       'Sofia the First', 'Salem', 'The Magicians',\n",
       "       'Camilla LÌ?ckberg - FjÌ?llbackamorden', 'Son of Zorn',\n",
       "       'Nattens NHL', 'LA to Vegas', 'Parneviks', \"Doodle's House\",\n",
       "       'MasterChef - Danmarks stÌürste madtalenter', 'Mad Dogs',\n",
       "       'Frikjent', 'Stella BlÌ?mkvist', 'Om Nom Stories',\n",
       "       'Masterchef Norge', 'Conviction', 'Arne Dahl', 'Camp Kulinaris',\n",
       "       'Snowfall', 'Brickleberry', \"Da Vinci's Demons\", 'Speechless',\n",
       "       'Brottskod', 'Politiaktionen', \"HITLER'S EAST PRUSSIA\",\n",
       "       'Angry Birds Stella', 'Garasjen', 'LyxfÌ?llan', 'Star',\n",
       "       'Learn To Draw Minis',\n",
       "       'Masterchef - Danmarks StÌürste Madtalenter', 'LEGO Elves',\n",
       "       'Hvem bor her?', 'Penny Dreadful', 'Rosewood', 'Liza Marklund',\n",
       "       'Svindeljegerne', 'The Tudors', 'Little Charmers', '11.22.63',\n",
       "       'Bilprovningen', 'Legion', 'Idas Fristelser',\n",
       "       'The Heroic Quest of the Valiant Prince Ivandoe', 'Alex',\n",
       "       'Road To The NHL Winter Classic presented by Honda',\n",
       "       'Nuoret Ì?idit', 'Weeds', 'BlÌ´ ÌÐgon', 'Mammor',\n",
       "       'Fresh Beat Band of Spies', 'Lailaland', 'The Arrangement',\n",
       "       'Valor', 'Tattoo Salonen', 'Conspiracy', 'Karlssons',\n",
       "       'Ensam mamma sÌ¦ker', 'Driven - Oklahoma State Cowboys',\n",
       "       'The Blacklist: Redemption', 'OSL 24-7', 'Amalies baby',\n",
       "       'SkÌ¦nhetsfÌ?llan', 'Sexy Business - Det frÌ?kke Danmark',\n",
       "       'Powers', '24: Live Another Day', 'BoligkÌüb i Blinde',\n",
       "       'Veni Vidi Vici', 'See Dad Run', 'Underground', 'Catastrophe',\n",
       "       'Mit Plastikmareridt', 'Advokaten', 'Viasat Hockeys Vodcast',\n",
       "       'Kadonnut: Joulupukki', 'Den Som DrÌ?ber', \"you've been t@gged\",\n",
       "       'Med Kniven for Struben', 'Supernanny Sverige',\n",
       "       'Tjafs! Valspecial', 'Den jaevla naboen', 'Viking Dead', 'StartUp',\n",
       "       'Det Store Eksperiment', 'I djurens tjÌ?nst', 'Preacher',\n",
       "       'Kniven mot strupen', 'Politirazzia', 'Shots Fired',\n",
       "       'Frusna vÌ?gar', 'Robinson Ekspedisjonen', 'Transparent',\n",
       "       \"Gary Neville's Soccerbox\", 'Ung & BortskÌ?md', 'Irene Huss',\n",
       "       'Kockakademin', 'Johan Falk', 'Black Widows', 'Hassel',\n",
       "       'Lego Friends', 'Jake and The Never Land Pirates',\n",
       "       'Brannstasjonen', \"Football's Greatest International Teams\",\n",
       "       'Being Serena', 'Min Hemlighet',\n",
       "       'Chevaleresk - stilsÌ?kert med MÌ´ns & Wiberg',\n",
       "       'Mighty Magiswords', 'Piggy Tales', 'Familien fra Bryggen (HD)',\n",
       "       'Boligjakten', 'Monster', 'Hunting Nazi Treasure', 'Et Ton Cash',\n",
       "       'ALL ACCESS: Quest for the Stanley Cup', 'Elven', 'Vekterne',\n",
       "       'The Shannara Chronicles', 'Min Fede TrÌ?ner', 'Mellan raderna',\n",
       "       'SM i V8 Thunder Cars', 'Gone Camping', 'Complications', 'Dicte',\n",
       "       'Planet Sheen', '72 Dangerous Places to Live', 'The Goldbergs',\n",
       "       'Fanboy & Chum Chum', 'Unni Lindell', 'Murder Maps',\n",
       "       'Danske Hollywoodfruer', 'Sat Af', 'Pascals Konditori', 'Rekyl',\n",
       "       'Nemas problemas', 'Pappaliv', 'Maria Lang', 'Second Chance',\n",
       "       'Minority Report', 'RÌ´skap', 'Det Stora Experimentet',\n",
       "       'TrendsÌ?tterne', 'Lingonligan', 'Wilfred', 'Behind the Glass',\n",
       "       'VeterinÌ?rene', 'Helvedes Hus', 'Varg Veum', 'Adam & Eva',\n",
       "       'Det Store Eksperimentet', '24: Legacy', 'Diabetesgalan',\n",
       "       'Making History', 'FLW Outdoors Bass Fishing', 'Skolan',\n",
       "       'Runaways', \"Inside Heston's World\", 'FIFA Football Show',\n",
       "       'Planet Europe', 'Superoppusserne', 'Hele Norge baker',\n",
       "       \"Football's Greatest\", 'ÌÉrets Feteste Fyr',\n",
       "       'Great Sporting Moments', 'For lÌ?kker til love',\n",
       "       'Flyt eller Forny', 'VÌ?rldens BÌ?sta Burgare',\n",
       "       'Du Ì?r vad du Ì?ter', 'Volvo Ocean Race',\n",
       "       'Countdown to The Ryder Cup', 'Freakish', 'Nellie',\n",
       "       'The History of Italian Food: Delizia', 'MASTERCHEF DANMARK JUL',\n",
       "       'Klubbhuset', 'Project Nazi: The Blueprints of Evil',\n",
       "       'Svinesund-Handel I Grenseland', 'Guidance',\n",
       "       'Kan vi hjÌ?lpa till?', 'Sveriges modigaste',\n",
       "       'Han heter ikke William', 'HÌ?ndig Man SÌ¦kes',\n",
       "       'HellstrÌüm rydder opp', 'KÌübmÌ?nd pÌ´ 1. klasse',\n",
       "       'Apocalypse Neanderthal', 'HellstrÌüms kjÌükken',\n",
       "       'Masterchef - Norges Beste Hobbykokk', 'Vad grillar du pÌ´?',\n",
       "       'Mobil 1 The Grid', 'More Than a Game', 'Lukket Visning',\n",
       "       'Boomtowners', 'Graveyard Carz', 'Helvedes hus',\n",
       "       'Det sene show med Christian Fuhlendorff', 'Redningskvinder',\n",
       "       'Min hemlighet', 'Baskets', 'Min Fede Familie',\n",
       "       'HellstrÌüm Rydder Opp - Hjemme', 'Ettor & Nollor',\n",
       "       'Junior Masterchef US', 'Helt i Skoven', 'Euromaalit',\n",
       "       'Businessfellen', 'Damien', 'Jokerit Inside', 'Slip KÌüterne LÌüs',\n",
       "       'Wartime Crime', 'Larvikjentene', 'Rum fÌ¦r dig', 'Wild Instinct',\n",
       "       'Yacht Party', 'Feherty', 'Timber kings', 'Toisen kanssa',\n",
       "       'Outcast', 'Couple Thinkers', 'F1-klassiker',\n",
       "       'VÌ?lkommen pÌ´ visning', 'Paradise Hotel', 'Halvbroren',\n",
       "       'Mit plastikmareridt', 'Pia & Jasmin', 'Norges styggeste rom',\n",
       "       'Side Effects', 'Meglerkampen', 'En dag i livet',\n",
       "       'Stjerner pÌ´ vÌ?ggen', 'HjÌ?lp - Mit hus skal sÌ?lges',\n",
       "       'Stil i sikte', 'Inte OK', 'Ferrari Challenge',\n",
       "       'Home Team: Florida Panthers', 'Steven Universe', 'YesNoMaybe',\n",
       "       'Pluras kÌ¦k - Istanbul', 'Ekte Menn', 'Track & Field Weekly',\n",
       "       'Sporting Mavericks', 'For lÌ?kker til love (HD)'], dtype=object)"
      ]
     },
     "execution_count": 61,
     "metadata": {},
     "output_type": "execute_result"
    }
   ],
   "source": [
    "df['program_title'].unique()"
   ]
  },
  {
   "cell_type": "code",
   "execution_count": 62,
   "metadata": {},
   "outputs": [
    {
     "data": {
      "text/plain": [
       "array(['2018-10-01T00:00:00.000000000'], dtype='datetime64[ns]')"
      ]
     },
     "execution_count": 62,
     "metadata": {},
     "output_type": "execute_result"
    }
   ],
   "source": [
    "df['dt'].unique()"
   ]
  },
  {
   "cell_type": "code",
   "execution_count": 63,
   "metadata": {},
   "outputs": [
    {
     "data": {
      "text/plain": [
       "array(['pcdash', 'chromecast', 'ios', 'ps4xdk', 'samsung2017xdk',\n",
       "       'lg2016xdk', 'samsung2013xdk', 'lg2017xdk', 'androiddash',\n",
       "       'samsung2015xdk', 'androidxdk', 'samsung2014xdk', 'pchls', 'atv',\n",
       "       'xboxonexdk', 'samsung2016xdk', 'lg2013xdk', 'samsung2012xdk',\n",
       "       'lg2014xdk', 'ps3xdk', 'lg2015xdk', 'panasonic2014', 'pcdashpr',\n",
       "       'philips2017xdk', 'lg2018xdk', 'samsung2018xdk', 'lg2012xdk', 'pc'],\n",
       "      dtype=object)"
      ]
     },
     "execution_count": 63,
     "metadata": {},
     "output_type": "execute_result"
    }
   ],
   "source": [
    "df['device_name'].unique()"
   ]
  },
  {
   "cell_type": "code",
   "execution_count": 64,
   "metadata": {},
   "outputs": [
    {
     "data": {
      "text/plain": [
       "array(['no', 'dk', 'se', 'fi'], dtype=object)"
      ]
     },
     "execution_count": 64,
     "metadata": {},
     "output_type": "execute_result"
    }
   ],
   "source": [
    "df['country_code'].unique()"
   ]
  },
  {
   "cell_type": "code",
   "execution_count": 65,
   "metadata": {},
   "outputs": [
    {
     "data": {
      "text/plain": [
       "array(['svod'], dtype=object)"
      ]
     },
     "execution_count": 65,
     "metadata": {},
     "output_type": "execute_result"
    }
   ],
   "source": [
    "df['product_type'].unique()"
   ]
  },
  {
   "cell_type": "markdown",
   "metadata": {},
   "source": [
    "## UNIVARIATE ANALYSIS"
   ]
  },
  {
   "cell_type": "code",
   "execution_count": 68,
   "metadata": {},
   "outputs": [
    {
     "data": {
      "image/png": "[encoded data removed]",
      "text/plain": [
       "<Figure size 720x720 with 1 Axes>"
      ]
     },
     "metadata": {
      "needs_background": "light"
     },
     "output_type": "display_data"
    }
   ],
   "source": [
    "df.hist(figsize=(10,10))\n",
    "plt.show()"
   ]
  },
  {
   "cell_type": "markdown",
   "metadata": {},
   "source": [
    "# Distribution Plot of feature"
   ]
  },
  {
   "cell_type": "code",
   "execution_count": 69,
   "metadata": {},
   "outputs": [
    {
     "data": {
      "text/plain": [
       "<matplotlib.axes._subplots.AxesSubplot at 0x12d1d48c490>"
      ]
     },
     "execution_count": 69,
     "metadata": {},
     "output_type": "execute_result"
    },
    {
     "data": {
      "image/png": "[encoded data removed]",
      "text/plain": [
       "<Figure size 432x288 with 1 Axes>"
      ]
     },
     "metadata": {
      "needs_background": "light"
     },
     "output_type": "display_data"
    }
   ],
   "source": [
    "sns.distplot(df['season'])"
   ]
  }
 ],
 "metadata": {
  "kernelspec": {
   "display_name": "Python 3",
   "language": "python",
   "name": "python3"
  },
  "language_info": {
   "codemirror_mode": {
    "name": "ipython",
    "version": 3
   },
   "file_extension": ".py",
   "mimetype": "text/x-python",
   "name": "python",
   "nbconvert_exporter": "python",
   "pygments_lexer": "ipython3",
   "version": "3.8.3"
  }
 },
 "nbformat": 4,
 "nbformat_minor": 4
}
