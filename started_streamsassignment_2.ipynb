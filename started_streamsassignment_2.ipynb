{
  "nbformat": 4,
  "nbformat_minor": 0,
  "metadata": {
    "colab": {
      "name": "started_streamsassignment 2.ipynb",
      "provenance": []
    },
    "kernelspec": {
      "name": "python3",
      "display_name": "Python 3"
    }
  },
  "cells": [
    {
      "cell_type": "code",
      "metadata": {
        "id": "br9Sh7vM-kbU"
      },
      "source": [
        "import numpy as np\r\n",
        "import pandas as pd\r\n",
        "import matplotlib.pyplot as plt\r\n",
        "import seaborn as sns"
      ],
      "execution_count": 1,
      "outputs": []
    },
    {
      "cell_type": "code",
      "metadata": {
        "colab": {
          "base_uri": "https://localhost:8080/",
          "height": 392
        },
        "id": "kaMlumA7_oDk",
        "outputId": "ec478dbc-1429-4e12-80bd-0b583e4b7a9e"
      },
      "source": [
        "df=pd.read_excel(\"newstarted.xlsx\")\r\n",
        "df"
      ],
      "execution_count": 2,
      "outputs": [
        {
          "output_type": "execute_result",
          "data": {
            "text/html": [
              "<div>\n",
              "<style scoped>\n",
              "    .dataframe tbody tr th:only-of-type {\n",
              "        vertical-align: middle;\n",
              "    }\n",
              "\n",
              "    .dataframe tbody tr th {\n",
              "        vertical-align: top;\n",
              "    }\n",
              "\n",
              "    .dataframe thead th {\n",
              "        text-align: right;\n",
              "    }\n",
              "</style>\n",
              "<table border=\"1\" class=\"dataframe\">\n",
              "  <thead>\n",
              "    <tr style=\"text-align: right;\">\n",
              "      <th></th>\n",
              "      <th>dt</th>\n",
              "      <th>time</th>\n",
              "      <th>device_name</th>\n",
              "      <th>house_number</th>\n",
              "      <th>user_id</th>\n",
              "      <th>country_code</th>\n",
              "      <th>program_title</th>\n",
              "      <th>season</th>\n",
              "      <th>season_episode</th>\n",
              "      <th>genre</th>\n",
              "      <th>product_type</th>\n",
              "    </tr>\n",
              "  </thead>\n",
              "  <tbody>\n",
              "    <tr>\n",
              "      <th>0</th>\n",
              "      <td>2018-10-01</td>\n",
              "      <td>09:19:15</td>\n",
              "      <td>pcdash</td>\n",
              "      <td>20431077</td>\n",
              "      <td>CFB707615C2C9132</td>\n",
              "      <td>no</td>\n",
              "      <td>Peppa Pig</td>\n",
              "      <td>2.0</td>\n",
              "      <td>S02E16</td>\n",
              "      <td>Series Kids</td>\n",
              "      <td>svod</td>\n",
              "    </tr>\n",
              "    <tr>\n",
              "      <th>1</th>\n",
              "      <td>2018-10-01</td>\n",
              "      <td>08:53:53</td>\n",
              "      <td>pcdash</td>\n",
              "      <td>20431072</td>\n",
              "      <td>CFB707615C2C9132</td>\n",
              "      <td>no</td>\n",
              "      <td>Peppa Pig</td>\n",
              "      <td>2.0</td>\n",
              "      <td>S02E11</td>\n",
              "      <td>Series Kids</td>\n",
              "      <td>svod</td>\n",
              "    </tr>\n",
              "    <tr>\n",
              "      <th>2</th>\n",
              "      <td>2018-10-01</td>\n",
              "      <td>20:24:34</td>\n",
              "      <td>pcdash</td>\n",
              "      <td>20209083</td>\n",
              "      <td>BzUtTh1jOyTjDIdW_7TDYSSyb2_VUrIO</td>\n",
              "      <td>dk</td>\n",
              "      <td>South Park</td>\n",
              "      <td>6.0</td>\n",
              "      <td>S06E08</td>\n",
              "      <td>Series Other</td>\n",
              "      <td>svod</td>\n",
              "    </tr>\n",
              "    <tr>\n",
              "      <th>3</th>\n",
              "      <td>2018-10-01</td>\n",
              "      <td>11:06:11</td>\n",
              "      <td>chromecast</td>\n",
              "      <td>20526429</td>\n",
              "      <td>STgzPEiXcj3olSd0ZEgeAypdXHb_tcrj</td>\n",
              "      <td>no</td>\n",
              "      <td>Adventure Time</td>\n",
              "      <td>9.0</td>\n",
              "      <td>S09E09</td>\n",
              "      <td>Series Kids</td>\n",
              "      <td>svod</td>\n",
              "    </tr>\n",
              "    <tr>\n",
              "      <th>4</th>\n",
              "      <td>2018-10-01</td>\n",
              "      <td>17:13:08</td>\n",
              "      <td>ios</td>\n",
              "      <td>20480461</td>\n",
              "      <td>8E0DF454830A552A</td>\n",
              "      <td>no</td>\n",
              "      <td>Teenage Mutant Ninja Turtles</td>\n",
              "      <td>4.0</td>\n",
              "      <td>S04E03</td>\n",
              "      <td>Series Kids</td>\n",
              "      <td>svod</td>\n",
              "    </tr>\n",
              "    <tr>\n",
              "      <th>...</th>\n",
              "      <td>...</td>\n",
              "      <td>...</td>\n",
              "      <td>...</td>\n",
              "      <td>...</td>\n",
              "      <td>...</td>\n",
              "      <td>...</td>\n",
              "      <td>...</td>\n",
              "      <td>...</td>\n",
              "      <td>...</td>\n",
              "      <td>...</td>\n",
              "      <td>...</td>\n",
              "    </tr>\n",
              "    <tr>\n",
              "      <th>99995</th>\n",
              "      <td>2018-10-01</td>\n",
              "      <td>17:53:39</td>\n",
              "      <td>pcdash</td>\n",
              "      <td>V23476</td>\n",
              "      <td>9cXptZ6KBZa3GKr8ql1ScIGJJ7gxbkeb</td>\n",
              "      <td>dk</td>\n",
              "      <td>24</td>\n",
              "      <td>2.0</td>\n",
              "      <td>S02E12</td>\n",
              "      <td>Series Other</td>\n",
              "      <td>svod</td>\n",
              "    </tr>\n",
              "    <tr>\n",
              "      <th>99996</th>\n",
              "      <td>2018-10-01</td>\n",
              "      <td>00:13:14</td>\n",
              "      <td>androiddash</td>\n",
              "      <td>S89817</td>\n",
              "      <td>tiuXC4_Vq96LgAsuV4mraF1YMklcjCO7</td>\n",
              "      <td>se</td>\n",
              "      <td>Tempelriddernes skat</td>\n",
              "      <td>NaN</td>\n",
              "      <td>NaN</td>\n",
              "      <td>Movies Other</td>\n",
              "      <td>svod</td>\n",
              "    </tr>\n",
              "    <tr>\n",
              "      <th>99997</th>\n",
              "      <td>2018-10-01</td>\n",
              "      <td>19:24:16</td>\n",
              "      <td>chromecast</td>\n",
              "      <td>20519544</td>\n",
              "      <td>ZNUqQO8GO6wcjnO5YY_q1BC36568Cpkz</td>\n",
              "      <td>dk</td>\n",
              "      <td>Robinson Ekspeditionen</td>\n",
              "      <td>20.0</td>\n",
              "      <td>S20E06</td>\n",
              "      <td>Own Production</td>\n",
              "      <td>svod</td>\n",
              "    </tr>\n",
              "    <tr>\n",
              "      <th>99998</th>\n",
              "      <td>2018-10-01</td>\n",
              "      <td>11:17:11</td>\n",
              "      <td>ios</td>\n",
              "      <td>20428581</td>\n",
              "      <td>4074475EA0B47F87</td>\n",
              "      <td>se</td>\n",
              "      <td>SpongeBob SquarePants</td>\n",
              "      <td>1.0</td>\n",
              "      <td>S01E07</td>\n",
              "      <td>Series Kids</td>\n",
              "      <td>svod</td>\n",
              "    </tr>\n",
              "    <tr>\n",
              "      <th>99999</th>\n",
              "      <td>2018-10-01</td>\n",
              "      <td>15:28:49</td>\n",
              "      <td>pcdash</td>\n",
              "      <td>20501983</td>\n",
              "      <td>593316F0F3AFAB2E</td>\n",
              "      <td>se</td>\n",
              "      <td>Paradise Hotel Sverige</td>\n",
              "      <td>9.0</td>\n",
              "      <td>S09E13</td>\n",
              "      <td>Own Production</td>\n",
              "      <td>svod</td>\n",
              "    </tr>\n",
              "  </tbody>\n",
              "</table>\n",
              "<p>100000 rows × 11 columns</p>\n",
              "</div>"
            ],
            "text/plain": [
              "              dt      time  ...           genre product_type\n",
              "0     2018-10-01  09:19:15  ...     Series Kids         svod\n",
              "1     2018-10-01  08:53:53  ...     Series Kids         svod\n",
              "2     2018-10-01  20:24:34  ...    Series Other         svod\n",
              "3     2018-10-01  11:06:11  ...     Series Kids         svod\n",
              "4     2018-10-01  17:13:08  ...     Series Kids         svod\n",
              "...          ...       ...  ...             ...          ...\n",
              "99995 2018-10-01  17:53:39  ...    Series Other         svod\n",
              "99996 2018-10-01  00:13:14  ...    Movies Other         svod\n",
              "99997 2018-10-01  19:24:16  ...  Own Production         svod\n",
              "99998 2018-10-01  11:17:11  ...     Series Kids         svod\n",
              "99999 2018-10-01  15:28:49  ...  Own Production         svod\n",
              "\n",
              "[100000 rows x 11 columns]"
            ]
          },
          "metadata": {
            "tags": []
          },
          "execution_count": 2
        }
      ]
    },
    {
      "cell_type": "code",
      "metadata": {
        "colab": {
          "base_uri": "https://localhost:8080/"
        },
        "id": "EwDrzXcW_oAC",
        "outputId": "f26ee582-cb8e-4c67-deb0-d0df2add3452"
      },
      "source": [
        "df.dtypes"
      ],
      "execution_count": 4,
      "outputs": [
        {
          "output_type": "execute_result",
          "data": {
            "text/plain": [
              "dt                datetime64[ns]\n",
              "time                      object\n",
              "device_name               object\n",
              "house_number              object\n",
              "user_id                   object\n",
              "country_code              object\n",
              "program_title             object\n",
              "season                   float64\n",
              "season_episode            object\n",
              "genre                     object\n",
              "product_type              object\n",
              "dtype: object"
            ]
          },
          "metadata": {
            "tags": []
          },
          "execution_count": 4
        }
      ]
    },
    {
      "cell_type": "code",
      "metadata": {
        "colab": {
          "base_uri": "https://localhost:8080/"
        },
        "id": "iTwWWGy0_n9q",
        "outputId": "aa32ee2a-841b-45e4-afab-4c60828392f7"
      },
      "source": [
        "df.info()"
      ],
      "execution_count": 5,
      "outputs": [
        {
          "output_type": "stream",
          "text": [
            "<class 'pandas.core.frame.DataFrame'>\n",
            "RangeIndex: 100000 entries, 0 to 99999\n",
            "Data columns (total 11 columns):\n",
            " #   Column          Non-Null Count   Dtype         \n",
            "---  ------          --------------   -----         \n",
            " 0   dt              100000 non-null  datetime64[ns]\n",
            " 1   time            100000 non-null  object        \n",
            " 2   device_name     100000 non-null  object        \n",
            " 3   house_number    100000 non-null  object        \n",
            " 4   user_id         94441 non-null   object        \n",
            " 5   country_code    94430 non-null   object        \n",
            " 6   program_title   94430 non-null   object        \n",
            " 7   season          83984 non-null   float64       \n",
            " 8   season_episode  80227 non-null   object        \n",
            " 9   genre           93555 non-null   object        \n",
            " 10  product_type    93555 non-null   object        \n",
            "dtypes: datetime64[ns](1), float64(1), object(9)\n",
            "memory usage: 8.4+ MB\n"
          ],
          "name": "stdout"
        }
      ]
    },
    {
      "cell_type": "code",
      "metadata": {
        "colab": {
          "base_uri": "https://localhost:8080/",
          "height": 190
        },
        "id": "AVSPJqAw_n6h",
        "outputId": "02f40de9-9350-49e6-f1dc-99ae09a473b0"
      },
      "source": [
        "df.head()"
      ],
      "execution_count": 6,
      "outputs": [
        {
          "output_type": "execute_result",
          "data": {
            "text/html": [
              "<div>\n",
              "<style scoped>\n",
              "    .dataframe tbody tr th:only-of-type {\n",
              "        vertical-align: middle;\n",
              "    }\n",
              "\n",
              "    .dataframe tbody tr th {\n",
              "        vertical-align: top;\n",
              "    }\n",
              "\n",
              "    .dataframe thead th {\n",
              "        text-align: right;\n",
              "    }\n",
              "</style>\n",
              "<table border=\"1\" class=\"dataframe\">\n",
              "  <thead>\n",
              "    <tr style=\"text-align: right;\">\n",
              "      <th></th>\n",
              "      <th>dt</th>\n",
              "      <th>time</th>\n",
              "      <th>device_name</th>\n",
              "      <th>house_number</th>\n",
              "      <th>user_id</th>\n",
              "      <th>country_code</th>\n",
              "      <th>program_title</th>\n",
              "      <th>season</th>\n",
              "      <th>season_episode</th>\n",
              "      <th>genre</th>\n",
              "      <th>product_type</th>\n",
              "    </tr>\n",
              "  </thead>\n",
              "  <tbody>\n",
              "    <tr>\n",
              "      <th>0</th>\n",
              "      <td>2018-10-01</td>\n",
              "      <td>09:19:15</td>\n",
              "      <td>pcdash</td>\n",
              "      <td>20431077</td>\n",
              "      <td>CFB707615C2C9132</td>\n",
              "      <td>no</td>\n",
              "      <td>Peppa Pig</td>\n",
              "      <td>2.0</td>\n",
              "      <td>S02E16</td>\n",
              "      <td>Series Kids</td>\n",
              "      <td>svod</td>\n",
              "    </tr>\n",
              "    <tr>\n",
              "      <th>1</th>\n",
              "      <td>2018-10-01</td>\n",
              "      <td>08:53:53</td>\n",
              "      <td>pcdash</td>\n",
              "      <td>20431072</td>\n",
              "      <td>CFB707615C2C9132</td>\n",
              "      <td>no</td>\n",
              "      <td>Peppa Pig</td>\n",
              "      <td>2.0</td>\n",
              "      <td>S02E11</td>\n",
              "      <td>Series Kids</td>\n",
              "      <td>svod</td>\n",
              "    </tr>\n",
              "    <tr>\n",
              "      <th>2</th>\n",
              "      <td>2018-10-01</td>\n",
              "      <td>20:24:34</td>\n",
              "      <td>pcdash</td>\n",
              "      <td>20209083</td>\n",
              "      <td>BzUtTh1jOyTjDIdW_7TDYSSyb2_VUrIO</td>\n",
              "      <td>dk</td>\n",
              "      <td>South Park</td>\n",
              "      <td>6.0</td>\n",
              "      <td>S06E08</td>\n",
              "      <td>Series Other</td>\n",
              "      <td>svod</td>\n",
              "    </tr>\n",
              "    <tr>\n",
              "      <th>3</th>\n",
              "      <td>2018-10-01</td>\n",
              "      <td>11:06:11</td>\n",
              "      <td>chromecast</td>\n",
              "      <td>20526429</td>\n",
              "      <td>STgzPEiXcj3olSd0ZEgeAypdXHb_tcrj</td>\n",
              "      <td>no</td>\n",
              "      <td>Adventure Time</td>\n",
              "      <td>9.0</td>\n",
              "      <td>S09E09</td>\n",
              "      <td>Series Kids</td>\n",
              "      <td>svod</td>\n",
              "    </tr>\n",
              "    <tr>\n",
              "      <th>4</th>\n",
              "      <td>2018-10-01</td>\n",
              "      <td>17:13:08</td>\n",
              "      <td>ios</td>\n",
              "      <td>20480461</td>\n",
              "      <td>8E0DF454830A552A</td>\n",
              "      <td>no</td>\n",
              "      <td>Teenage Mutant Ninja Turtles</td>\n",
              "      <td>4.0</td>\n",
              "      <td>S04E03</td>\n",
              "      <td>Series Kids</td>\n",
              "      <td>svod</td>\n",
              "    </tr>\n",
              "  </tbody>\n",
              "</table>\n",
              "</div>"
            ],
            "text/plain": [
              "          dt      time device_name  ... season_episode         genre product_type\n",
              "0 2018-10-01  09:19:15      pcdash  ...         S02E16   Series Kids         svod\n",
              "1 2018-10-01  08:53:53      pcdash  ...         S02E11   Series Kids         svod\n",
              "2 2018-10-01  20:24:34      pcdash  ...         S06E08  Series Other         svod\n",
              "3 2018-10-01  11:06:11  chromecast  ...         S09E09   Series Kids         svod\n",
              "4 2018-10-01  17:13:08         ios  ...         S04E03   Series Kids         svod\n",
              "\n",
              "[5 rows x 11 columns]"
            ]
          },
          "metadata": {
            "tags": []
          },
          "execution_count": 6
        }
      ]
    },
    {
      "cell_type": "code",
      "metadata": {
        "colab": {
          "base_uri": "https://localhost:8080/"
        },
        "id": "GCpvPGV2Aag-",
        "outputId": "afa004a5-0bcd-4ef4-8f0c-2967f492cd72"
      },
      "source": [
        "df.columns"
      ],
      "execution_count": 8,
      "outputs": [
        {
          "output_type": "execute_result",
          "data": {
            "text/plain": [
              "Index(['dt', 'time', 'device_name', 'house_number', 'user_id', 'country_code',\n",
              "       'program_title', 'season', 'season_episode', 'genre', 'product_type'],\n",
              "      dtype='object')"
            ]
          },
          "metadata": {
            "tags": []
          },
          "execution_count": 8
        }
      ]
    },
    {
      "cell_type": "code",
      "metadata": {
        "colab": {
          "base_uri": "https://localhost:8080/"
        },
        "id": "ZYkmnULxAaat",
        "outputId": "df267b53-afe0-427f-a1dd-90a92d49531b"
      },
      "source": [
        "# looking at the shape of the dataset\r\n",
        "\r\n",
        "print(\"Shape of the dataset: \",df.shape)"
      ],
      "execution_count": 9,
      "outputs": [
        {
          "output_type": "stream",
          "text": [
            "Shape of the dataset:  (100000, 11)\n"
          ],
          "name": "stdout"
        }
      ]
    },
    {
      "cell_type": "code",
      "metadata": {
        "colab": {
          "base_uri": "https://localhost:8080/"
        },
        "id": "YLW_OPSrAaYR",
        "outputId": "5acb4ecd-f5f5-48f2-d0b6-b62b60d41778"
      },
      "source": [
        "# Checking the info\r\n",
        "\r\n",
        "print(\"The info of the dataset\",df.info())"
      ],
      "execution_count": 10,
      "outputs": [
        {
          "output_type": "stream",
          "text": [
            "<class 'pandas.core.frame.DataFrame'>\n",
            "RangeIndex: 100000 entries, 0 to 99999\n",
            "Data columns (total 11 columns):\n",
            " #   Column          Non-Null Count   Dtype         \n",
            "---  ------          --------------   -----         \n",
            " 0   dt              100000 non-null  datetime64[ns]\n",
            " 1   time            100000 non-null  object        \n",
            " 2   device_name     100000 non-null  object        \n",
            " 3   house_number    100000 non-null  object        \n",
            " 4   user_id         94441 non-null   object        \n",
            " 5   country_code    94430 non-null   object        \n",
            " 6   program_title   94430 non-null   object        \n",
            " 7   season          83984 non-null   float64       \n",
            " 8   season_episode  80227 non-null   object        \n",
            " 9   genre           93555 non-null   object        \n",
            " 10  product_type    93555 non-null   object        \n",
            "dtypes: datetime64[ns](1), float64(1), object(9)\n",
            "memory usage: 8.4+ MB\n",
            "The info of the dataset None\n"
          ],
          "name": "stdout"
        }
      ]
    },
    {
      "cell_type": "markdown",
      "metadata": {
        "id": "QiZdeW1TAr91"
      },
      "source": [
        "Exploratory data analysis"
      ]
    },
    {
      "cell_type": "code",
      "metadata": {
        "colab": {
          "base_uri": "https://localhost:8080/",
          "height": 282
        },
        "id": "zTTA00aRAaV3",
        "outputId": "bac03208-234a-4a27-8b0c-06db39d0e194"
      },
      "source": [
        "# checking for missing values\r\n",
        "\r\n",
        "missing_val=df.isnull().sum()\r\n",
        "missing_val=missing_val[missing_val>0]\r\n",
        "missing_val.sort_values(ascending=False).plot(kind='barh')"
      ],
      "execution_count": 11,
      "outputs": [
        {
          "output_type": "execute_result",
          "data": {
            "text/plain": [
              "<matplotlib.axes._subplots.AxesSubplot at 0x7f02304a4e80>"
            ]
          },
          "metadata": {
            "tags": []
          },
          "execution_count": 11
        },
        {
          "output_type": "display_data",
          "data": {
            "image/png": "[encoded data removed]",
            "text/plain": [
              "<Figure size 432x288 with 1 Axes>"
            ]
          },
          "metadata": {
            "tags": [],
            "needs_background": "light"
          }
        }
      ]
    },
    {
      "cell_type": "code",
      "metadata": {
        "colab": {
          "base_uri": "https://localhost:8080/",
          "height": 392
        },
        "id": "zv0m5maqAo7u",
        "outputId": "b7bbc275-d18c-4ae3-e33a-6e52187378c7"
      },
      "source": [
        "# retrieving the missing row\r\n",
        "df[df['season_episode'].isnull()]\r\n"
      ],
      "execution_count": 12,
      "outputs": [
        {
          "output_type": "execute_result",
          "data": {
            "text/html": [
              "<div>\n",
              "<style scoped>\n",
              "    .dataframe tbody tr th:only-of-type {\n",
              "        vertical-align: middle;\n",
              "    }\n",
              "\n",
              "    .dataframe tbody tr th {\n",
              "        vertical-align: top;\n",
              "    }\n",
              "\n",
              "    .dataframe thead th {\n",
              "        text-align: right;\n",
              "    }\n",
              "</style>\n",
              "<table border=\"1\" class=\"dataframe\">\n",
              "  <thead>\n",
              "    <tr style=\"text-align: right;\">\n",
              "      <th></th>\n",
              "      <th>dt</th>\n",
              "      <th>time</th>\n",
              "      <th>device_name</th>\n",
              "      <th>house_number</th>\n",
              "      <th>user_id</th>\n",
              "      <th>country_code</th>\n",
              "      <th>program_title</th>\n",
              "      <th>season</th>\n",
              "      <th>season_episode</th>\n",
              "      <th>genre</th>\n",
              "      <th>product_type</th>\n",
              "    </tr>\n",
              "  </thead>\n",
              "  <tbody>\n",
              "    <tr>\n",
              "      <th>26</th>\n",
              "      <td>2018-10-01</td>\n",
              "      <td>10:56:47</td>\n",
              "      <td>pcdash</td>\n",
              "      <td>V44087</td>\n",
              "      <td>PvdxHw_rbn01sS9NFXjNDor06llRlDJZ</td>\n",
              "      <td>no</td>\n",
              "      <td>Lilo &amp; Stitch 2: Stitch Has a Glitch</td>\n",
              "      <td>NaN</td>\n",
              "      <td>NaN</td>\n",
              "      <td>Movies Kids</td>\n",
              "      <td>svod</td>\n",
              "    </tr>\n",
              "    <tr>\n",
              "      <th>28</th>\n",
              "      <td>2018-10-01</td>\n",
              "      <td>17:00:26</td>\n",
              "      <td>androiddash</td>\n",
              "      <td>2820000000000000000</td>\n",
              "      <td>Eq0jNWUnYSrjSUbWn_ALPDOOG3bXmDVb</td>\n",
              "      <td>se</td>\n",
              "      <td>The Big Bang Theory</td>\n",
              "      <td>NaN</td>\n",
              "      <td>NaN</td>\n",
              "      <td>Other</td>\n",
              "      <td>svod</td>\n",
              "    </tr>\n",
              "    <tr>\n",
              "      <th>36</th>\n",
              "      <td>2018-10-01</td>\n",
              "      <td>17:58:56</td>\n",
              "      <td>ios</td>\n",
              "      <td>5420000000000000000</td>\n",
              "      <td>tB0UKkZSSMODQPBooUxcNjAULdaDnUy9</td>\n",
              "      <td>no</td>\n",
              "      <td>Eliteserien: TromsÌü - Brann</td>\n",
              "      <td>NaN</td>\n",
              "      <td>NaN</td>\n",
              "      <td>Sports</td>\n",
              "      <td>svod</td>\n",
              "    </tr>\n",
              "    <tr>\n",
              "      <th>37</th>\n",
              "      <td>2018-10-01</td>\n",
              "      <td>14:53:14</td>\n",
              "      <td>atv</td>\n",
              "      <td>20538388</td>\n",
              "      <td>_NblCo7YXxfbO8hpZ_t2iZgTthNH2D5O</td>\n",
              "      <td>se</td>\n",
              "      <td>NHL Live</td>\n",
              "      <td>2015.0</td>\n",
              "      <td>NaN</td>\n",
              "      <td>Sports</td>\n",
              "      <td>svod</td>\n",
              "    </tr>\n",
              "    <tr>\n",
              "      <th>41</th>\n",
              "      <td>2018-10-01</td>\n",
              "      <td>08:28:49</td>\n",
              "      <td>atv</td>\n",
              "      <td>20437134</td>\n",
              "      <td>1F336261697E3059</td>\n",
              "      <td>se</td>\n",
              "      <td>The Fate of the Furious</td>\n",
              "      <td>NaN</td>\n",
              "      <td>NaN</td>\n",
              "      <td>Movies Other</td>\n",
              "      <td>svod</td>\n",
              "    </tr>\n",
              "    <tr>\n",
              "      <th>...</th>\n",
              "      <td>...</td>\n",
              "      <td>...</td>\n",
              "      <td>...</td>\n",
              "      <td>...</td>\n",
              "      <td>...</td>\n",
              "      <td>...</td>\n",
              "      <td>...</td>\n",
              "      <td>...</td>\n",
              "      <td>...</td>\n",
              "      <td>...</td>\n",
              "      <td>...</td>\n",
              "    </tr>\n",
              "    <tr>\n",
              "      <th>99960</th>\n",
              "      <td>2018-10-01</td>\n",
              "      <td>18:47:25</td>\n",
              "      <td>chromecast</td>\n",
              "      <td>20526618</td>\n",
              "      <td>qh4M_7dEgGW7IIyLGRxPdOiuOF9GLbjn</td>\n",
              "      <td>se</td>\n",
              "      <td>Deadpool 2</td>\n",
              "      <td>NaN</td>\n",
              "      <td>NaN</td>\n",
              "      <td>Movies Other</td>\n",
              "      <td>tvod</td>\n",
              "    </tr>\n",
              "    <tr>\n",
              "      <th>99968</th>\n",
              "      <td>2018-10-01</td>\n",
              "      <td>14:32:27</td>\n",
              "      <td>pcdash</td>\n",
              "      <td>20471941</td>\n",
              "      <td>2768180BE51DA3FA</td>\n",
              "      <td>no</td>\n",
              "      <td>Chicken Little</td>\n",
              "      <td>NaN</td>\n",
              "      <td>NaN</td>\n",
              "      <td>Movies Kids</td>\n",
              "      <td>est</td>\n",
              "    </tr>\n",
              "    <tr>\n",
              "      <th>99989</th>\n",
              "      <td>2018-10-01</td>\n",
              "      <td>20:42:29</td>\n",
              "      <td>atv</td>\n",
              "      <td>47400000000000000000</td>\n",
              "      <td>lV8KtGfuD3y36t_WlXtCDzZ2RfPj3U3I</td>\n",
              "      <td>se</td>\n",
              "      <td>WEG 2018: Daily Review</td>\n",
              "      <td>NaN</td>\n",
              "      <td>NaN</td>\n",
              "      <td>Sports</td>\n",
              "      <td>svod</td>\n",
              "    </tr>\n",
              "    <tr>\n",
              "      <th>99990</th>\n",
              "      <td>2018-10-01</td>\n",
              "      <td>16:19:06</td>\n",
              "      <td>pcdashpr</td>\n",
              "      <td>20526618</td>\n",
              "      <td>ME_qPH58htcBI9JbtINOP_mhEFLo6ruq</td>\n",
              "      <td>se</td>\n",
              "      <td>Deadpool 2</td>\n",
              "      <td>NaN</td>\n",
              "      <td>NaN</td>\n",
              "      <td>Movies Other</td>\n",
              "      <td>tvod</td>\n",
              "    </tr>\n",
              "    <tr>\n",
              "      <th>99996</th>\n",
              "      <td>2018-10-01</td>\n",
              "      <td>00:13:14</td>\n",
              "      <td>androiddash</td>\n",
              "      <td>S89817</td>\n",
              "      <td>tiuXC4_Vq96LgAsuV4mraF1YMklcjCO7</td>\n",
              "      <td>se</td>\n",
              "      <td>Tempelriddernes skat</td>\n",
              "      <td>NaN</td>\n",
              "      <td>NaN</td>\n",
              "      <td>Movies Other</td>\n",
              "      <td>svod</td>\n",
              "    </tr>\n",
              "  </tbody>\n",
              "</table>\n",
              "<p>19773 rows × 11 columns</p>\n",
              "</div>"
            ],
            "text/plain": [
              "              dt      time  ...         genre product_type\n",
              "26    2018-10-01  10:56:47  ...   Movies Kids         svod\n",
              "28    2018-10-01  17:00:26  ...         Other         svod\n",
              "36    2018-10-01  17:58:56  ...        Sports         svod\n",
              "37    2018-10-01  14:53:14  ...        Sports         svod\n",
              "41    2018-10-01  08:28:49  ...  Movies Other         svod\n",
              "...          ...       ...  ...           ...          ...\n",
              "99960 2018-10-01  18:47:25  ...  Movies Other         tvod\n",
              "99968 2018-10-01  14:32:27  ...   Movies Kids          est\n",
              "99989 2018-10-01  20:42:29  ...        Sports         svod\n",
              "99990 2018-10-01  16:19:06  ...  Movies Other         tvod\n",
              "99996 2018-10-01  00:13:14  ...  Movies Other         svod\n",
              "\n",
              "[19773 rows x 11 columns]"
            ]
          },
          "metadata": {
            "tags": []
          },
          "execution_count": 12
        }
      ]
    },
    {
      "cell_type": "markdown",
      "metadata": {
        "id": "wn5ovXJpA8R0"
      },
      "source": [
        "season_episode and season has missing values in the same row. the row can be dropped as no more information loss"
      ]
    },
    {
      "cell_type": "code",
      "metadata": {
        "colab": {
          "base_uri": "https://localhost:8080/",
          "height": 392
        },
        "id": "RDXdpW21Ao4V",
        "outputId": "f95dfcb0-8148-4bcf-9a7c-529e23d1ac17"
      },
      "source": [
        "# dropping the missing rows\r\n",
        "df.dropna(inplace=True)\r\n",
        "df\r\n"
      ],
      "execution_count": 13,
      "outputs": [
        {
          "output_type": "execute_result",
          "data": {
            "text/html": [
              "<div>\n",
              "<style scoped>\n",
              "    .dataframe tbody tr th:only-of-type {\n",
              "        vertical-align: middle;\n",
              "    }\n",
              "\n",
              "    .dataframe tbody tr th {\n",
              "        vertical-align: top;\n",
              "    }\n",
              "\n",
              "    .dataframe thead th {\n",
              "        text-align: right;\n",
              "    }\n",
              "</style>\n",
              "<table border=\"1\" class=\"dataframe\">\n",
              "  <thead>\n",
              "    <tr style=\"text-align: right;\">\n",
              "      <th></th>\n",
              "      <th>dt</th>\n",
              "      <th>time</th>\n",
              "      <th>device_name</th>\n",
              "      <th>house_number</th>\n",
              "      <th>user_id</th>\n",
              "      <th>country_code</th>\n",
              "      <th>program_title</th>\n",
              "      <th>season</th>\n",
              "      <th>season_episode</th>\n",
              "      <th>genre</th>\n",
              "      <th>product_type</th>\n",
              "    </tr>\n",
              "  </thead>\n",
              "  <tbody>\n",
              "    <tr>\n",
              "      <th>0</th>\n",
              "      <td>2018-10-01</td>\n",
              "      <td>09:19:15</td>\n",
              "      <td>pcdash</td>\n",
              "      <td>20431077</td>\n",
              "      <td>CFB707615C2C9132</td>\n",
              "      <td>no</td>\n",
              "      <td>Peppa Pig</td>\n",
              "      <td>2.0</td>\n",
              "      <td>S02E16</td>\n",
              "      <td>Series Kids</td>\n",
              "      <td>svod</td>\n",
              "    </tr>\n",
              "    <tr>\n",
              "      <th>1</th>\n",
              "      <td>2018-10-01</td>\n",
              "      <td>08:53:53</td>\n",
              "      <td>pcdash</td>\n",
              "      <td>20431072</td>\n",
              "      <td>CFB707615C2C9132</td>\n",
              "      <td>no</td>\n",
              "      <td>Peppa Pig</td>\n",
              "      <td>2.0</td>\n",
              "      <td>S02E11</td>\n",
              "      <td>Series Kids</td>\n",
              "      <td>svod</td>\n",
              "    </tr>\n",
              "    <tr>\n",
              "      <th>2</th>\n",
              "      <td>2018-10-01</td>\n",
              "      <td>20:24:34</td>\n",
              "      <td>pcdash</td>\n",
              "      <td>20209083</td>\n",
              "      <td>BzUtTh1jOyTjDIdW_7TDYSSyb2_VUrIO</td>\n",
              "      <td>dk</td>\n",
              "      <td>South Park</td>\n",
              "      <td>6.0</td>\n",
              "      <td>S06E08</td>\n",
              "      <td>Series Other</td>\n",
              "      <td>svod</td>\n",
              "    </tr>\n",
              "    <tr>\n",
              "      <th>3</th>\n",
              "      <td>2018-10-01</td>\n",
              "      <td>11:06:11</td>\n",
              "      <td>chromecast</td>\n",
              "      <td>20526429</td>\n",
              "      <td>STgzPEiXcj3olSd0ZEgeAypdXHb_tcrj</td>\n",
              "      <td>no</td>\n",
              "      <td>Adventure Time</td>\n",
              "      <td>9.0</td>\n",
              "      <td>S09E09</td>\n",
              "      <td>Series Kids</td>\n",
              "      <td>svod</td>\n",
              "    </tr>\n",
              "    <tr>\n",
              "      <th>4</th>\n",
              "      <td>2018-10-01</td>\n",
              "      <td>17:13:08</td>\n",
              "      <td>ios</td>\n",
              "      <td>20480461</td>\n",
              "      <td>8E0DF454830A552A</td>\n",
              "      <td>no</td>\n",
              "      <td>Teenage Mutant Ninja Turtles</td>\n",
              "      <td>4.0</td>\n",
              "      <td>S04E03</td>\n",
              "      <td>Series Kids</td>\n",
              "      <td>svod</td>\n",
              "    </tr>\n",
              "    <tr>\n",
              "      <th>...</th>\n",
              "      <td>...</td>\n",
              "      <td>...</td>\n",
              "      <td>...</td>\n",
              "      <td>...</td>\n",
              "      <td>...</td>\n",
              "      <td>...</td>\n",
              "      <td>...</td>\n",
              "      <td>...</td>\n",
              "      <td>...</td>\n",
              "      <td>...</td>\n",
              "      <td>...</td>\n",
              "    </tr>\n",
              "    <tr>\n",
              "      <th>99994</th>\n",
              "      <td>2018-10-01</td>\n",
              "      <td>14:18:09</td>\n",
              "      <td>samsung2016xdk</td>\n",
              "      <td>20437828</td>\n",
              "      <td>OqQnQepB69hIvvZCgk1qb4EbFXkmrbmx</td>\n",
              "      <td>se</td>\n",
              "      <td>Blaze and the Monster Machines</td>\n",
              "      <td>2.0</td>\n",
              "      <td>S02E19</td>\n",
              "      <td>Series Kids</td>\n",
              "      <td>svod</td>\n",
              "    </tr>\n",
              "    <tr>\n",
              "      <th>99995</th>\n",
              "      <td>2018-10-01</td>\n",
              "      <td>17:53:39</td>\n",
              "      <td>pcdash</td>\n",
              "      <td>V23476</td>\n",
              "      <td>9cXptZ6KBZa3GKr8ql1ScIGJJ7gxbkeb</td>\n",
              "      <td>dk</td>\n",
              "      <td>24</td>\n",
              "      <td>2.0</td>\n",
              "      <td>S02E12</td>\n",
              "      <td>Series Other</td>\n",
              "      <td>svod</td>\n",
              "    </tr>\n",
              "    <tr>\n",
              "      <th>99997</th>\n",
              "      <td>2018-10-01</td>\n",
              "      <td>19:24:16</td>\n",
              "      <td>chromecast</td>\n",
              "      <td>20519544</td>\n",
              "      <td>ZNUqQO8GO6wcjnO5YY_q1BC36568Cpkz</td>\n",
              "      <td>dk</td>\n",
              "      <td>Robinson Ekspeditionen</td>\n",
              "      <td>20.0</td>\n",
              "      <td>S20E06</td>\n",
              "      <td>Own Production</td>\n",
              "      <td>svod</td>\n",
              "    </tr>\n",
              "    <tr>\n",
              "      <th>99998</th>\n",
              "      <td>2018-10-01</td>\n",
              "      <td>11:17:11</td>\n",
              "      <td>ios</td>\n",
              "      <td>20428581</td>\n",
              "      <td>4074475EA0B47F87</td>\n",
              "      <td>se</td>\n",
              "      <td>SpongeBob SquarePants</td>\n",
              "      <td>1.0</td>\n",
              "      <td>S01E07</td>\n",
              "      <td>Series Kids</td>\n",
              "      <td>svod</td>\n",
              "    </tr>\n",
              "    <tr>\n",
              "      <th>99999</th>\n",
              "      <td>2018-10-01</td>\n",
              "      <td>15:28:49</td>\n",
              "      <td>pcdash</td>\n",
              "      <td>20501983</td>\n",
              "      <td>593316F0F3AFAB2E</td>\n",
              "      <td>se</td>\n",
              "      <td>Paradise Hotel Sverige</td>\n",
              "      <td>9.0</td>\n",
              "      <td>S09E13</td>\n",
              "      <td>Own Production</td>\n",
              "      <td>svod</td>\n",
              "    </tr>\n",
              "  </tbody>\n",
              "</table>\n",
              "<p>80227 rows × 11 columns</p>\n",
              "</div>"
            ],
            "text/plain": [
              "              dt      time  ...           genre product_type\n",
              "0     2018-10-01  09:19:15  ...     Series Kids         svod\n",
              "1     2018-10-01  08:53:53  ...     Series Kids         svod\n",
              "2     2018-10-01  20:24:34  ...    Series Other         svod\n",
              "3     2018-10-01  11:06:11  ...     Series Kids         svod\n",
              "4     2018-10-01  17:13:08  ...     Series Kids         svod\n",
              "...          ...       ...  ...             ...          ...\n",
              "99994 2018-10-01  14:18:09  ...     Series Kids         svod\n",
              "99995 2018-10-01  17:53:39  ...    Series Other         svod\n",
              "99997 2018-10-01  19:24:16  ...  Own Production         svod\n",
              "99998 2018-10-01  11:17:11  ...     Series Kids         svod\n",
              "99999 2018-10-01  15:28:49  ...  Own Production         svod\n",
              "\n",
              "[80227 rows x 11 columns]"
            ]
          },
          "metadata": {
            "tags": []
          },
          "execution_count": 13
        }
      ]
    },
    {
      "cell_type": "code",
      "metadata": {
        "colab": {
          "base_uri": "https://localhost:8080/"
        },
        "id": "aBDxqN7aAo2W",
        "outputId": "eed41172-7df0-4855-bae7-c7f1aef52217"
      },
      "source": [
        "df.isnull().sum()"
      ],
      "execution_count": 14,
      "outputs": [
        {
          "output_type": "execute_result",
          "data": {
            "text/plain": [
              "dt                0\n",
              "time              0\n",
              "device_name       0\n",
              "house_number      0\n",
              "user_id           0\n",
              "country_code      0\n",
              "program_title     0\n",
              "season            0\n",
              "season_episode    0\n",
              "genre             0\n",
              "product_type      0\n",
              "dtype: int64"
            ]
          },
          "metadata": {
            "tags": []
          },
          "execution_count": 14
        }
      ]
    },
    {
      "cell_type": "code",
      "metadata": {
        "colab": {
          "base_uri": "https://localhost:8080/"
        },
        "id": "xd3R1ovGAozx",
        "outputId": "6a2fc33d-2bee-4fde-ce5d-aaacdfa86047"
      },
      "source": [
        "df.nunique()"
      ],
      "execution_count": 15,
      "outputs": [
        {
          "output_type": "execute_result",
          "data": {
            "text/plain": [
              "dt                    1\n",
              "time              47724\n",
              "device_name          28\n",
              "house_number      12204\n",
              "user_id           59990\n",
              "country_code          4\n",
              "program_title       425\n",
              "season               28\n",
              "season_episode      942\n",
              "genre                 4\n",
              "product_type          1\n",
              "dtype: int64"
            ]
          },
          "metadata": {
            "tags": []
          },
          "execution_count": 15
        }
      ]
    },
    {
      "cell_type": "code",
      "metadata": {
        "colab": {
          "base_uri": "https://localhost:8080/"
        },
        "id": "8K2Q9eZ_AoxW",
        "outputId": "0b8e213d-cc19-4390-f0d7-530eb11b2810"
      },
      "source": [
        "print(df['user_id'].value_counts())"
      ],
      "execution_count": 16,
      "outputs": [
        {
          "output_type": "stream",
          "text": [
            "7_SuCZsfIAelvUKndybPWPJoMUydFzms    30\n",
            "q9EBmiK9_KreRjEgMfdRdq3jlU7eTbnp    24\n",
            "Q_t269pb8JPGGkXgfehiyiqU46Yduv0N    18\n",
            "BD37C17D66C33849                    17\n",
            "Z2gdvQ_pXn1pQ8CHOXtjd7sL4890sCbC    16\n",
            "                                    ..\n",
            "_6RGyGBHGziNEHshCDFaSsN1M5CRbpGT     1\n",
            "fh8kZTH3h_U1C2JIm4GKgOwRqVwlqyYg     1\n",
            "1y9sZmZrRbzZsyZhH6VeUyyJarGfXkqA     1\n",
            "QJILbpyH_8b05sigBA63fmRORG4Cjaso     1\n",
            "SdtgYjfFc_JIR5SoodyNTp_RxT1hbuNK     1\n",
            "Name: user_id, Length: 59990, dtype: int64\n"
          ],
          "name": "stdout"
        }
      ]
    },
    {
      "cell_type": "code",
      "metadata": {
        "colab": {
          "base_uri": "https://localhost:8080/"
        },
        "id": "KIgzmBtYAoum",
        "outputId": "2d0a9ec0-b3c7-4e52-d6f6-410e10cb5390"
      },
      "source": [
        "print(df['dt'].value_counts())"
      ],
      "execution_count": 17,
      "outputs": [
        {
          "output_type": "stream",
          "text": [
            "2018-10-01    80227\n",
            "Name: dt, dtype: int64\n"
          ],
          "name": "stdout"
        }
      ]
    },
    {
      "cell_type": "code",
      "metadata": {
        "colab": {
          "base_uri": "https://localhost:8080/"
        },
        "id": "gz_h4fFXEnI4",
        "outputId": "4dffe68f-199f-4260-f779-0e0cec07da17"
      },
      "source": [
        "print(df['program_title'].value_counts())"
      ],
      "execution_count": 18,
      "outputs": [
        {
          "output_type": "stream",
          "text": [
            "Peppa Pig                    3647\n",
            "Robinson Ekspeditionen       3484\n",
            "Paradise Hotel Sverige       3346\n",
            "PAW Patrol                   2873\n",
            "Family Guy                   2388\n",
            "                             ... \n",
            "YesNoMaybe                      1\n",
            "FLW Outdoors Bass Fishing       1\n",
            "Side Effects                    1\n",
            "More Than a Game                1\n",
            "Inside Heston's World           1\n",
            "Name: program_title, Length: 425, dtype: int64\n"
          ],
          "name": "stdout"
        }
      ]
    },
    {
      "cell_type": "code",
      "metadata": {
        "colab": {
          "base_uri": "https://localhost:8080/"
        },
        "id": "-JfDfk27EnDw",
        "outputId": "9db5aa6e-eabd-41b9-b185-dd548754d3f5"
      },
      "source": [
        "print(df['device_name'].value_counts())"
      ],
      "execution_count": 19,
      "outputs": [
        {
          "output_type": "stream",
          "text": [
            "ios               16324\n",
            "pcdash            11215\n",
            "atv                9673\n",
            "chromecast         9448\n",
            "androiddash        7149\n",
            "ps4xdk             4851\n",
            "samsung2017xdk     2578\n",
            "pchls              2190\n",
            "samsung2016xdk     2161\n",
            "samsung2015xdk     1849\n",
            "samsung2014xdk     1743\n",
            "androidxdk         1639\n",
            "lg2016xdk          1443\n",
            "lg2017xdk          1418\n",
            "samsung2013xdk     1285\n",
            "xboxonexdk          876\n",
            "samsung2012xdk      801\n",
            "lg2015xdk           707\n",
            "ps3xdk              634\n",
            "pcdashpr            588\n",
            "lg2013xdk           573\n",
            "lg2014xdk           277\n",
            "samsung2018xdk      198\n",
            "panasonic2014       174\n",
            "philips2017xdk      154\n",
            "lg2012xdk           152\n",
            "lg2018xdk           119\n",
            "pc                    8\n",
            "Name: device_name, dtype: int64\n"
          ],
          "name": "stdout"
        }
      ]
    },
    {
      "cell_type": "code",
      "metadata": {
        "colab": {
          "base_uri": "https://localhost:8080/"
        },
        "id": "rk_aLOCxEm78",
        "outputId": "cb4e82ef-1c4f-4533-d361-5474382857d1"
      },
      "source": [
        "print(df['country_code'].value_counts())"
      ],
      "execution_count": 20,
      "outputs": [
        {
          "output_type": "stream",
          "text": [
            "se    29588\n",
            "dk    28558\n",
            "no    15079\n",
            "fi     7002\n",
            "Name: country_code, dtype: int64\n"
          ],
          "name": "stdout"
        }
      ]
    },
    {
      "cell_type": "code",
      "metadata": {
        "colab": {
          "base_uri": "https://localhost:8080/"
        },
        "id": "q3D1FUM2FJK_",
        "outputId": "5140d844-0035-49d4-8a30-c249376b13b3"
      },
      "source": [
        "print(df['product_type'].value_counts())"
      ],
      "execution_count": 21,
      "outputs": [
        {
          "output_type": "stream",
          "text": [
            "svod    80227\n",
            "Name: product_type, dtype: int64\n"
          ],
          "name": "stdout"
        }
      ]
    },
    {
      "cell_type": "code",
      "metadata": {
        "colab": {
          "base_uri": "https://localhost:8080/",
          "height": 908
        },
        "id": "WPDSad-dFQGO",
        "outputId": "548319d5-18d7-4aed-e288-b6dd755ad551"
      },
      "source": [
        "print(df['device_name'].value_counts())\r\n",
        "print(\"*\"*125)\r\n",
        "plt.figure(figsize=(8,6))\r\n",
        "sns.countplot(y=df.device_name.sort_values())"
      ],
      "execution_count": 22,
      "outputs": [
        {
          "output_type": "stream",
          "text": [
            "ios               16324\n",
            "pcdash            11215\n",
            "atv                9673\n",
            "chromecast         9448\n",
            "androiddash        7149\n",
            "ps4xdk             4851\n",
            "samsung2017xdk     2578\n",
            "pchls              2190\n",
            "samsung2016xdk     2161\n",
            "samsung2015xdk     1849\n",
            "samsung2014xdk     1743\n",
            "androidxdk         1639\n",
            "lg2016xdk          1443\n",
            "lg2017xdk          1418\n",
            "samsung2013xdk     1285\n",
            "xboxonexdk          876\n",
            "samsung2012xdk      801\n",
            "lg2015xdk           707\n",
            "ps3xdk              634\n",
            "pcdashpr            588\n",
            "lg2013xdk           573\n",
            "lg2014xdk           277\n",
            "samsung2018xdk      198\n",
            "panasonic2014       174\n",
            "philips2017xdk      154\n",
            "lg2012xdk           152\n",
            "lg2018xdk           119\n",
            "pc                    8\n",
            "Name: device_name, dtype: int64\n",
            "*****************************************************************************************************************************\n"
          ],
          "name": "stdout"
        },
        {
          "output_type": "execute_result",
          "data": {
            "text/plain": [
              "<matplotlib.axes._subplots.AxesSubplot at 0x7f02304a4dd8>"
            ]
          },
          "metadata": {
            "tags": []
          },
          "execution_count": 22
        },
        {
          "output_type": "display_data",
          "data": {
            "image/png": "[encoded data removed]",
            "text/plain": [
              "<Figure size 576x432 with 1 Axes>"
            ]
          },
          "metadata": {
            "tags": [],
            "needs_background": "light"
          }
        }
      ]
    },
    {
      "cell_type": "code",
      "metadata": {
        "colab": {
          "base_uri": "https://localhost:8080/",
          "height": 454
        },
        "id": "o8hTBQuDFhEY",
        "outputId": "ac97b077-ef77-4905-bf8b-f1b93273f3ee"
      },
      "source": [
        "print(df['product_type'].value_counts())\r\n",
        "print(\"*\"*125)\r\n",
        "plt.figure(figsize=(8,6))\r\n",
        "sns.countplot(y=df.product_type.sort_values())"
      ],
      "execution_count": 23,
      "outputs": [
        {
          "output_type": "stream",
          "text": [
            "svod    80227\n",
            "Name: product_type, dtype: int64\n",
            "*****************************************************************************************************************************\n"
          ],
          "name": "stdout"
        },
        {
          "output_type": "execute_result",
          "data": {
            "text/plain": [
              "<matplotlib.axes._subplots.AxesSubplot at 0x7f022eaa89b0>"
            ]
          },
          "metadata": {
            "tags": []
          },
          "execution_count": 23
        },
        {
          "output_type": "display_data",
          "data": {
            "image/png": "[encoded data removed]",
            "text/plain": [
              "<Figure size 576x432 with 1 Axes>"
            ]
          },
          "metadata": {
            "tags": [],
            "needs_background": "light"
          }
        }
      ]
    },
    {
      "cell_type": "code",
      "metadata": {
        "colab": {
          "base_uri": "https://localhost:8080/"
        },
        "id": "fmrMBit-FhBW",
        "outputId": "aa6df93a-2fa2-4e7a-8d4a-ecc534e19255"
      },
      "source": [
        "\r\n",
        "print(df.groupby(\"user_id\")[\"program_title\"].value_counts())"
      ],
      "execution_count": 24,
      "outputs": [
        {
          "output_type": "stream",
          "text": [
            "user_id                           program_title                 \n",
            "634000000000000000000             Blaze and the Monster Machines    3\n",
            "00023248160A15EE                  South Park                        1\n",
            "000C0972D15DBC51                  Game Shakers                      1\n",
            "                                  PAW Patrol                        1\n",
            "0014Ocg4PtC3DFBoUEiG6dU_oBVLTVpG  Robinson Ekspeditionen            1\n",
            "                                                                   ..\n",
            "zzjh5fi718DXCDTb1NrmBZ0yQm8fFK7_  Robinson Ekspeditionen            1\n",
            "zzmBQj4CjnlmdaBEFoJImrSIKc9iNehp  The Good Doctor                   2\n",
            "                                  Svenska Hollywoodfruar            1\n",
            "zzvXB0_9YXzN7NqcCmb3trCossg1nugY  Quantico                          1\n",
            "zzxtR15adPcakoQKN7ibCpaEp5g1O_yW  Bones                             1\n",
            "Name: program_title, Length: 64803, dtype: int64\n"
          ],
          "name": "stdout"
        }
      ]
    },
    {
      "cell_type": "code",
      "metadata": {
        "colab": {
          "base_uri": "https://localhost:8080/"
        },
        "id": "V8NVkSvqFg-M",
        "outputId": "641abcc5-a30f-4c55-dd7c-e46d6b3f0393"
      },
      "source": [
        "\r\n",
        "print(df.groupby(\"user_id\")[\"product_type\"].value_counts())"
      ],
      "execution_count": 25,
      "outputs": [
        {
          "output_type": "stream",
          "text": [
            "user_id                           product_type\n",
            "634000000000000000000             svod            3\n",
            "00023248160A15EE                  svod            1\n",
            "000C0972D15DBC51                  svod            2\n",
            "0014Ocg4PtC3DFBoUEiG6dU_oBVLTVpG  svod            1\n",
            "0017B276ADBE6914                  svod            1\n",
            "                                                 ..\n",
            "zzfVgFpEpp2hSrvIVv0AjL5DEhwvIlmN  svod            1\n",
            "zzjh5fi718DXCDTb1NrmBZ0yQm8fFK7_  svod            1\n",
            "zzmBQj4CjnlmdaBEFoJImrSIKc9iNehp  svod            3\n",
            "zzvXB0_9YXzN7NqcCmb3trCossg1nugY  svod            1\n",
            "zzxtR15adPcakoQKN7ibCpaEp5g1O_yW  svod            1\n",
            "Name: product_type, Length: 59990, dtype: int64\n"
          ],
          "name": "stdout"
        }
      ]
    },
    {
      "cell_type": "code",
      "metadata": {
        "colab": {
          "base_uri": "https://localhost:8080/",
          "height": 208
        },
        "id": "7J4yNfUfFg7o",
        "outputId": "53086ce0-7bb2-47ea-9f79-b1a33f4e7d48"
      },
      "source": [
        "# Exploring categorical variable\r\n",
        "\r\n",
        "cat_col=[x for x in df.columns if df[x].dtypes==\"O\"and x not in ['dt', 'time', 'device_name', 'house_number', 'user_id', 'country_code',\r\n",
        "       'program_title', 'season', 'season_episode', 'genre', 'product_type']]\r\n",
        "print(\"The categoriacal columns in the dataset\",cat_col)\r\n",
        "print(\"_\"*125)\r\n",
        "df[cat_col].head()"
      ],
      "execution_count": 26,
      "outputs": [
        {
          "output_type": "stream",
          "text": [
            "The categoriacal columns in the dataset []\n",
            "_____________________________________________________________________________________________________________________________\n"
          ],
          "name": "stdout"
        },
        {
          "output_type": "execute_result",
          "data": {
            "text/html": [
              "<div>\n",
              "<style scoped>\n",
              "    .dataframe tbody tr th:only-of-type {\n",
              "        vertical-align: middle;\n",
              "    }\n",
              "\n",
              "    .dataframe tbody tr th {\n",
              "        vertical-align: top;\n",
              "    }\n",
              "\n",
              "    .dataframe thead th {\n",
              "        text-align: right;\n",
              "    }\n",
              "</style>\n",
              "<table border=\"1\" class=\"dataframe\">\n",
              "  <thead>\n",
              "    <tr style=\"text-align: right;\">\n",
              "      <th></th>\n",
              "    </tr>\n",
              "  </thead>\n",
              "  <tbody>\n",
              "    <tr>\n",
              "      <th>0</th>\n",
              "    </tr>\n",
              "    <tr>\n",
              "      <th>1</th>\n",
              "    </tr>\n",
              "    <tr>\n",
              "      <th>2</th>\n",
              "    </tr>\n",
              "    <tr>\n",
              "      <th>3</th>\n",
              "    </tr>\n",
              "    <tr>\n",
              "      <th>4</th>\n",
              "    </tr>\n",
              "  </tbody>\n",
              "</table>\n",
              "</div>"
            ],
            "text/plain": [
              "Empty DataFrame\n",
              "Columns: []\n",
              "Index: [0, 1, 2, 3, 4]"
            ]
          },
          "metadata": {
            "tags": []
          },
          "execution_count": 26
        }
      ]
    },
    {
      "cell_type": "code",
      "metadata": {
        "colab": {
          "base_uri": "https://localhost:8080/"
        },
        "id": "k5YOq6WAFxui",
        "outputId": "9ba6f7e9-e96d-4dc8-83cc-e0fa8cb1a033"
      },
      "source": [
        "df.columns"
      ],
      "execution_count": 27,
      "outputs": [
        {
          "output_type": "execute_result",
          "data": {
            "text/plain": [
              "Index(['dt', 'time', 'device_name', 'house_number', 'user_id', 'country_code',\n",
              "       'program_title', 'season', 'season_episode', 'genre', 'product_type'],\n",
              "      dtype='object')"
            ]
          },
          "metadata": {
            "tags": []
          },
          "execution_count": 27
        }
      ]
    },
    {
      "cell_type": "code",
      "metadata": {
        "colab": {
          "base_uri": "https://localhost:8080/",
          "height": 190
        },
        "id": "M4Rzgzf4Fxqd",
        "outputId": "e6368bf3-5adb-4c46-9727-ab077c12e556"
      },
      "source": [
        "df.head()"
      ],
      "execution_count": 28,
      "outputs": [
        {
          "output_type": "execute_result",
          "data": {
            "text/html": [
              "<div>\n",
              "<style scoped>\n",
              "    .dataframe tbody tr th:only-of-type {\n",
              "        vertical-align: middle;\n",
              "    }\n",
              "\n",
              "    .dataframe tbody tr th {\n",
              "        vertical-align: top;\n",
              "    }\n",
              "\n",
              "    .dataframe thead th {\n",
              "        text-align: right;\n",
              "    }\n",
              "</style>\n",
              "<table border=\"1\" class=\"dataframe\">\n",
              "  <thead>\n",
              "    <tr style=\"text-align: right;\">\n",
              "      <th></th>\n",
              "      <th>dt</th>\n",
              "      <th>time</th>\n",
              "      <th>device_name</th>\n",
              "      <th>house_number</th>\n",
              "      <th>user_id</th>\n",
              "      <th>country_code</th>\n",
              "      <th>program_title</th>\n",
              "      <th>season</th>\n",
              "      <th>season_episode</th>\n",
              "      <th>genre</th>\n",
              "      <th>product_type</th>\n",
              "    </tr>\n",
              "  </thead>\n",
              "  <tbody>\n",
              "    <tr>\n",
              "      <th>0</th>\n",
              "      <td>2018-10-01</td>\n",
              "      <td>09:19:15</td>\n",
              "      <td>pcdash</td>\n",
              "      <td>20431077</td>\n",
              "      <td>CFB707615C2C9132</td>\n",
              "      <td>no</td>\n",
              "      <td>Peppa Pig</td>\n",
              "      <td>2.0</td>\n",
              "      <td>S02E16</td>\n",
              "      <td>Series Kids</td>\n",
              "      <td>svod</td>\n",
              "    </tr>\n",
              "    <tr>\n",
              "      <th>1</th>\n",
              "      <td>2018-10-01</td>\n",
              "      <td>08:53:53</td>\n",
              "      <td>pcdash</td>\n",
              "      <td>20431072</td>\n",
              "      <td>CFB707615C2C9132</td>\n",
              "      <td>no</td>\n",
              "      <td>Peppa Pig</td>\n",
              "      <td>2.0</td>\n",
              "      <td>S02E11</td>\n",
              "      <td>Series Kids</td>\n",
              "      <td>svod</td>\n",
              "    </tr>\n",
              "    <tr>\n",
              "      <th>2</th>\n",
              "      <td>2018-10-01</td>\n",
              "      <td>20:24:34</td>\n",
              "      <td>pcdash</td>\n",
              "      <td>20209083</td>\n",
              "      <td>BzUtTh1jOyTjDIdW_7TDYSSyb2_VUrIO</td>\n",
              "      <td>dk</td>\n",
              "      <td>South Park</td>\n",
              "      <td>6.0</td>\n",
              "      <td>S06E08</td>\n",
              "      <td>Series Other</td>\n",
              "      <td>svod</td>\n",
              "    </tr>\n",
              "    <tr>\n",
              "      <th>3</th>\n",
              "      <td>2018-10-01</td>\n",
              "      <td>11:06:11</td>\n",
              "      <td>chromecast</td>\n",
              "      <td>20526429</td>\n",
              "      <td>STgzPEiXcj3olSd0ZEgeAypdXHb_tcrj</td>\n",
              "      <td>no</td>\n",
              "      <td>Adventure Time</td>\n",
              "      <td>9.0</td>\n",
              "      <td>S09E09</td>\n",
              "      <td>Series Kids</td>\n",
              "      <td>svod</td>\n",
              "    </tr>\n",
              "    <tr>\n",
              "      <th>4</th>\n",
              "      <td>2018-10-01</td>\n",
              "      <td>17:13:08</td>\n",
              "      <td>ios</td>\n",
              "      <td>20480461</td>\n",
              "      <td>8E0DF454830A552A</td>\n",
              "      <td>no</td>\n",
              "      <td>Teenage Mutant Ninja Turtles</td>\n",
              "      <td>4.0</td>\n",
              "      <td>S04E03</td>\n",
              "      <td>Series Kids</td>\n",
              "      <td>svod</td>\n",
              "    </tr>\n",
              "  </tbody>\n",
              "</table>\n",
              "</div>"
            ],
            "text/plain": [
              "          dt      time device_name  ... season_episode         genre product_type\n",
              "0 2018-10-01  09:19:15      pcdash  ...         S02E16   Series Kids         svod\n",
              "1 2018-10-01  08:53:53      pcdash  ...         S02E11   Series Kids         svod\n",
              "2 2018-10-01  20:24:34      pcdash  ...         S06E08  Series Other         svod\n",
              "3 2018-10-01  11:06:11  chromecast  ...         S09E09   Series Kids         svod\n",
              "4 2018-10-01  17:13:08         ios  ...         S04E03   Series Kids         svod\n",
              "\n",
              "[5 rows x 11 columns]"
            ]
          },
          "metadata": {
            "tags": []
          },
          "execution_count": 28
        }
      ]
    },
    {
      "cell_type": "code",
      "metadata": {
        "id": "BZITnAIMFxly"
      },
      "source": [
        "# checking the nunique and value counts for each categorical column\r\n",
        "for feature in cat_col:\r\n",
        "    print(\"Value counts in\",feature)\r\n",
        "    print(df[feature].value_counts())\r\n",
        "    print(\"*\"*70)"
      ],
      "execution_count": 30,
      "outputs": []
    },
    {
      "cell_type": "code",
      "metadata": {
        "colab": {
          "base_uri": "https://localhost:8080/"
        },
        "id": "bI6muX3nGR3_",
        "outputId": "72149bd5-34c9-4274-ac1b-84f53d05dd4c"
      },
      "source": [
        "df['user_id'].unique()"
      ],
      "execution_count": 31,
      "outputs": [
        {
          "output_type": "execute_result",
          "data": {
            "text/plain": [
              "array(['CFB707615C2C9132', 'BzUtTh1jOyTjDIdW_7TDYSSyb2_VUrIO',\n",
              "       'STgzPEiXcj3olSd0ZEgeAypdXHb_tcrj', ...,\n",
              "       'bPjz0NeraCu_wZ9kYcng9I34RP1Y8Umk',\n",
              "       'ddavIpB2mLD_Z_MpzicsoMogk_AnRyoi',\n",
              "       'ZNUqQO8GO6wcjnO5YY_q1BC36568Cpkz'], dtype=object)"
            ]
          },
          "metadata": {
            "tags": []
          },
          "execution_count": 31
        }
      ]
    },
    {
      "cell_type": "code",
      "metadata": {
        "colab": {
          "base_uri": "https://localhost:8080/"
        },
        "id": "x8qHe5BUGR04",
        "outputId": "5a04944e-4fd1-4268-c7b5-daab5fb750c5"
      },
      "source": [
        "df['device_name'].unique()"
      ],
      "execution_count": 32,
      "outputs": [
        {
          "output_type": "execute_result",
          "data": {
            "text/plain": [
              "array(['pcdash', 'chromecast', 'ios', 'ps4xdk', 'samsung2017xdk',\n",
              "       'lg2016xdk', 'samsung2013xdk', 'lg2017xdk', 'androiddash',\n",
              "       'samsung2015xdk', 'androidxdk', 'samsung2014xdk', 'pchls', 'atv',\n",
              "       'xboxonexdk', 'samsung2016xdk', 'lg2013xdk', 'samsung2012xdk',\n",
              "       'lg2014xdk', 'ps3xdk', 'lg2015xdk', 'panasonic2014', 'pcdashpr',\n",
              "       'philips2017xdk', 'lg2018xdk', 'samsung2018xdk', 'lg2012xdk', 'pc'],\n",
              "      dtype=object)"
            ]
          },
          "metadata": {
            "tags": []
          },
          "execution_count": 32
        }
      ]
    },
    {
      "cell_type": "code",
      "metadata": {
        "colab": {
          "base_uri": "https://localhost:8080/"
        },
        "id": "Nsh3eNz6GRxu",
        "outputId": "478c4c1a-b514-4c23-db3e-871850f8d13a"
      },
      "source": [
        "df['program_title'].unique()"
      ],
      "execution_count": 33,
      "outputs": [
        {
          "output_type": "execute_result",
          "data": {
            "text/plain": [
              "array(['Peppa Pig', 'South Park', 'Adventure Time',\n",
              "       'Teenage Mutant Ninja Turtles', 'Paradise Hotel Sverige',\n",
              "       'Seinfeld', 'Quantico', 'NCIS', 'Glee', 'Mad Men',\n",
              "       'School of Rock', 'MÌ´lklubben', 'Futurama',\n",
              "       'Robinson Ekspeditionen', 'Family Guy', 'Til Middag Hos',\n",
              "       'Love Island Norge', 'The Night Shift', 'Swedish Dicks',\n",
              "       'Hemliga beundrare', 'PAW Patrol', 'Fireman Sam', 'Tree Fu Tom',\n",
              "       'Okkupert', 'Blaze and the Monster Machines',\n",
              "       'How I Met Your Mother', 'Dagens mand', 'American Dad',\n",
              "       'Blindspot', 'TV3 DokumentÌ?r', 'New Amsterdam',\n",
              "       'Buffy the Vampire Slayer', 'Aber Bergen',\n",
              "       \"It's Always Sunny in Philadelphia\", 'NCIS: Los Angeles', 'Bones',\n",
              "       'The Powerpuff Girls', 'Lego City', 'Haven', 'Dora the Explorer',\n",
              "       'The Walking Dead', 'Prison Break', 'Bordertown', 'Absentia',\n",
              "       'Vikings', 'The Brave', 'Henry Danger', 'Frasier', 'Will & Grace',\n",
              "       'Poketto Monsut€\\x81', 'The Blacklist', 'The Cleveland Show',\n",
              "       'White Collar', 'Community', 'Kevin Can Wait',\n",
              "       'Postman Pat: Special Delivery Service',\n",
              "       'The Penguins of Madagascar', 'The Good Wife',\n",
              "       'Paradise Hotel Norge', 'Angry Birds Toons',\n",
              "       'My Little Pony: Friendship is Magic', 'Unga Mammor',\n",
              "       'Paradise Hotel Danmark', 'Timeless', 'The Fosters',\n",
              "       'The Amazing World of Gumball', 'Bosch', 'Last Man Standing',\n",
              "       'Nashville', 'Empire', 'Hunter Street', 'Forsidefruer',\n",
              "       'American Woman', 'Doc McStuffins',\n",
              "       '100 Things To Do Before High School', 'Ingen utan skuld',\n",
              "       'Scrubs', 'Shimmer and Shine',\n",
              "       'The Late Late Show with James Corden', 'Lethal Weapon',\n",
              "       'Care Bears: Welcome to Care-a-Lot', 'Soy Luna', 'The Thundermans',\n",
              "       'Adventures of Chuck & Friends', 'The Haunted Hathaways',\n",
              "       'Familien fra Bryggen', 'S.W.A.T.', 'iCarly', 'HÌ´nd i hÌ´nd',\n",
              "       'The Backyardigans', 'Svenska Hollywoodfruar', 'Gossip Girl',\n",
              "       'Beyond', 'Winx Club', 'Hard Knocks', 'The X-Files',\n",
              "       'Animal Kingdom', 'Sam & Cat', 'Dora and Friends: Into the City!',\n",
              "       'Counterpart', 'Wayward Pines', 'BÌürnelokkerne', 'Game Shakers',\n",
              "       'Angel', 'Victorious', 'Unfabulous', 'Clarence', 'Notorious',\n",
              "       'SpongeBob SquarePants', 'Luksusfellen', 'Charterfeber',\n",
              "       'Masha i Medved', 'Love Island UK', 'Unikitty!', 'The Loud House',\n",
              "       'We Bare Bears', 'My Name Is Earl', 'Black-ish',\n",
              "       \"Philip K. Dick's Electric Dreams\", 'The Good Doctor', 'Outlander',\n",
              "       'Teen Titans Go!', 'LuksusfÌ?lden', 'Lie to Me', 'SvartsjÌ¦n',\n",
              "       'Team Umizoomi', 'Unforgettable', 'The Fairly OddParents',\n",
              "       'The Affair', 'Gone', 'Atlanta', 'Liv and Maddie',\n",
              "       'Divaer i junglen', 'Harvey Beaks',\n",
              "       'Ninjago: Masters of Spinjitzu',\n",
              "       'Cloudy With A Chance Of Meatballs', 'Jessie', 'Myths & Monsters',\n",
              "       'Magnum P.I.', 'Prison Break Sequel', 'Ray Donovan',\n",
              "       'Scream Queens', 'Thunderbirds Are Go', 24, 'King of the Hill',\n",
              "       'The Royals', 'Outsiders', 'Mr. Robot', 'VÌ´r tid Ì?r nu',\n",
              "       'Kung Fu Panda: Legends of Awesomeness', 'Marvin Marvin',\n",
              "       'Lego Chima', 'Billions', 'KÌ?rlighed i krise', 'Ride',\n",
              "       'Graceland', 'Angry Birds Blues', \"Marvel's Agent Carter\",\n",
              "       'Rig 45', 'Ben 10', 'Big Time Rush', \"Bob's Burgers\",\n",
              "       'Eventyrlig oppussing', 'Peppy Pals', 'Ultimate Spider-Man',\n",
              "       'Star Wars Rebels', 'Last Man on Earth', 'Den Store VÌ?gtkamp',\n",
              "       'Danmarks Modigste', 'Efterlyst', 'Bubble Guppies',\n",
              "       'Sunny Bunnies', 'Fresh Off the Boat', 'Bella and the Bulldogs',\n",
              "       'Are You the One? - Sverige', 'Cirkus Magaluf',\n",
              "       'Mozart in the Jungle', 'Modus', 'Better Things',\n",
              "       'Besat af Bad Boys', 'Babar and the Adventures of Badou',\n",
              "       'Cam & Leon', 'Maria Wern', 'X Company', 'Familien Nielsen',\n",
              "       'Sofia the First', 'Salem', 'The Magicians',\n",
              "       'Camilla LÌ?ckberg - FjÌ?llbackamorden', 'Son of Zorn',\n",
              "       'Nattens NHL', 'LA to Vegas', 'Parneviks', \"Doodle's House\",\n",
              "       'MasterChef - Danmarks stÌürste madtalenter', 'Mad Dogs',\n",
              "       'Frikjent', 'Stella BlÌ?mkvist', 'Om Nom Stories',\n",
              "       'Masterchef Norge', 'Conviction', 'Arne Dahl', 'Camp Kulinaris',\n",
              "       'Snowfall', 'Brickleberry', \"Da Vinci's Demons\", 'Speechless',\n",
              "       'Brottskod', 'Politiaktionen', \"HITLER'S EAST PRUSSIA\",\n",
              "       'Angry Birds Stella', 'Garasjen', 'LyxfÌ?llan', 'Star',\n",
              "       'Learn To Draw Minis',\n",
              "       'Masterchef - Danmarks StÌürste Madtalenter', 'LEGO Elves',\n",
              "       'Hvem bor her?', 'Penny Dreadful', 'Rosewood', 'Liza Marklund',\n",
              "       'Svindeljegerne', 'The Tudors', 'Little Charmers', '11.22.63',\n",
              "       'Bilprovningen', 'Legion', 'Idas Fristelser',\n",
              "       'The Heroic Quest of the Valiant Prince Ivandoe', 'Alex',\n",
              "       'Road To The NHL Winter Classic presented by Honda',\n",
              "       'Nuoret Ì?idit', 'Weeds', 'BlÌ´ ÌÐgon', 'Mammor',\n",
              "       'Fresh Beat Band of Spies', 'Lailaland', 'The Arrangement',\n",
              "       'Valor', 'Tattoo Salonen', 'Conspiracy', 'Karlssons',\n",
              "       'Ensam mamma sÌ¦ker', 'Driven - Oklahoma State Cowboys',\n",
              "       'The Blacklist: Redemption', 'OSL 24-7', 'Amalies baby',\n",
              "       'SkÌ¦nhetsfÌ?llan', 'Sexy Business - Det frÌ?kke Danmark',\n",
              "       'Powers', '24: Live Another Day', 'BoligkÌüb i Blinde',\n",
              "       'Veni Vidi Vici', 'See Dad Run', 'Underground', 'Catastrophe',\n",
              "       'Mit Plastikmareridt', 'Advokaten', 'Viasat Hockeys Vodcast',\n",
              "       'Kadonnut: Joulupukki', 'Den Som DrÌ?ber', \"you've been t@gged\",\n",
              "       'Med Kniven for Struben', 'Supernanny Sverige',\n",
              "       'Tjafs! Valspecial', 'Den jaevla naboen', 'Viking Dead', 'StartUp',\n",
              "       'Det Store Eksperiment', 'I djurens tjÌ?nst', 'Preacher',\n",
              "       'Kniven mot strupen', 'Politirazzia', 'Shots Fired',\n",
              "       'Frusna vÌ?gar', 'Robinson Ekspedisjonen', 'Transparent',\n",
              "       \"Gary Neville's Soccerbox\", 'Ung & BortskÌ?md', 'Irene Huss',\n",
              "       'Kockakademin', 'Johan Falk', 'Black Widows', 'Hassel',\n",
              "       'Lego Friends', 'Jake and The Never Land Pirates',\n",
              "       'Brannstasjonen', \"Football's Greatest International Teams\",\n",
              "       'Being Serena', 'Min Hemlighet',\n",
              "       'Chevaleresk - stilsÌ?kert med MÌ´ns & Wiberg',\n",
              "       'Mighty Magiswords', 'Piggy Tales', 'Familien fra Bryggen (HD)',\n",
              "       'Boligjakten', 'Monster', 'Hunting Nazi Treasure', 'Et Ton Cash',\n",
              "       'ALL ACCESS: Quest for the Stanley Cup', 'Elven', 'Vekterne',\n",
              "       'The Shannara Chronicles', 'Min Fede TrÌ?ner', 'Mellan raderna',\n",
              "       'SM i V8 Thunder Cars', 'Gone Camping', 'Complications', 'Dicte',\n",
              "       'Planet Sheen', '72 Dangerous Places to Live', 'The Goldbergs',\n",
              "       'Fanboy & Chum Chum', 'Unni Lindell', 'Murder Maps',\n",
              "       'Danske Hollywoodfruer', 'Sat Af', 'Pascals Konditori', 'Rekyl',\n",
              "       'Nemas problemas', 'Pappaliv', 'Maria Lang', 'Second Chance',\n",
              "       'Minority Report', 'RÌ´skap', 'Det Stora Experimentet',\n",
              "       'TrendsÌ?tterne', 'Lingonligan', 'Wilfred', 'Behind the Glass',\n",
              "       'VeterinÌ?rene', 'Helvedes Hus', 'Varg Veum', 'Adam & Eva',\n",
              "       'Det Store Eksperimentet', '24: Legacy', 'Diabetesgalan',\n",
              "       'Making History', 'FLW Outdoors Bass Fishing', 'Skolan',\n",
              "       'Runaways', \"Inside Heston's World\", 'FIFA Football Show',\n",
              "       'Planet Europe', 'Superoppusserne', 'Hele Norge baker',\n",
              "       \"Football's Greatest\", 'ÌÉrets Feteste Fyr',\n",
              "       'Great Sporting Moments', 'For lÌ?kker til love',\n",
              "       'Flyt eller Forny', 'VÌ?rldens BÌ?sta Burgare',\n",
              "       'Du Ì?r vad du Ì?ter', 'Volvo Ocean Race',\n",
              "       'Countdown to The Ryder Cup', 'Freakish', 'Nellie',\n",
              "       'The History of Italian Food: Delizia', 'MASTERCHEF DANMARK JUL',\n",
              "       'Klubbhuset', 'Project Nazi: The Blueprints of Evil',\n",
              "       'Svinesund-Handel I Grenseland', 'Guidance',\n",
              "       'Kan vi hjÌ?lpa till?', 'Sveriges modigaste',\n",
              "       'Han heter ikke William', 'HÌ?ndig Man SÌ¦kes',\n",
              "       'HellstrÌüm rydder opp', 'KÌübmÌ?nd pÌ´ 1. klasse',\n",
              "       'Apocalypse Neanderthal', 'HellstrÌüms kjÌükken',\n",
              "       'Masterchef - Norges Beste Hobbykokk', 'Vad grillar du pÌ´?',\n",
              "       'Mobil 1 The Grid', 'More Than a Game', 'Lukket Visning',\n",
              "       'Boomtowners', 'Graveyard Carz', 'Helvedes hus',\n",
              "       'Det sene show med Christian Fuhlendorff', 'Redningskvinder',\n",
              "       'Min hemlighet', 'Baskets', 'Min Fede Familie',\n",
              "       'HellstrÌüm Rydder Opp - Hjemme', 'Ettor & Nollor',\n",
              "       'Junior Masterchef US', 'Helt i Skoven', 'Euromaalit',\n",
              "       'Businessfellen', 'Damien', 'Jokerit Inside', 'Slip KÌüterne LÌüs',\n",
              "       'Wartime Crime', 'Larvikjentene', 'Rum fÌ¦r dig', 'Wild Instinct',\n",
              "       'Yacht Party', 'Feherty', 'Timber kings', 'Toisen kanssa',\n",
              "       'Outcast', 'Couple Thinkers', 'F1-klassiker',\n",
              "       'VÌ?lkommen pÌ´ visning', 'Paradise Hotel', 'Halvbroren',\n",
              "       'Mit plastikmareridt', 'Pia & Jasmin', 'Norges styggeste rom',\n",
              "       'Side Effects', 'Meglerkampen', 'En dag i livet',\n",
              "       'Stjerner pÌ´ vÌ?ggen', 'HjÌ?lp - Mit hus skal sÌ?lges',\n",
              "       'Stil i sikte', 'Inte OK', 'Ferrari Challenge',\n",
              "       'Home Team: Florida Panthers', 'Steven Universe', 'YesNoMaybe',\n",
              "       'Pluras kÌ¦k - Istanbul', 'Ekte Menn', 'Track & Field Weekly',\n",
              "       'Sporting Mavericks', 'For lÌ?kker til love (HD)'], dtype=object)"
            ]
          },
          "metadata": {
            "tags": []
          },
          "execution_count": 33
        }
      ]
    },
    {
      "cell_type": "code",
      "metadata": {
        "colab": {
          "base_uri": "https://localhost:8080/"
        },
        "id": "wrmpY957GRt-",
        "outputId": "3cf329b3-66c0-49fd-d210-eb5bef6c8f8b"
      },
      "source": [
        "df['dt'].unique()"
      ],
      "execution_count": 34,
      "outputs": [
        {
          "output_type": "execute_result",
          "data": {
            "text/plain": [
              "array(['2018-10-01T00:00:00.000000000'], dtype='datetime64[ns]')"
            ]
          },
          "metadata": {
            "tags": []
          },
          "execution_count": 34
        }
      ]
    },
    {
      "cell_type": "code",
      "metadata": {
        "colab": {
          "base_uri": "https://localhost:8080/"
        },
        "id": "5DsgClb1Gp-9",
        "outputId": "ec2a1346-ce3f-431b-8c56-19029df7144f"
      },
      "source": [
        "df['device_name'].unique()"
      ],
      "execution_count": 35,
      "outputs": [
        {
          "output_type": "execute_result",
          "data": {
            "text/plain": [
              "array(['pcdash', 'chromecast', 'ios', 'ps4xdk', 'samsung2017xdk',\n",
              "       'lg2016xdk', 'samsung2013xdk', 'lg2017xdk', 'androiddash',\n",
              "       'samsung2015xdk', 'androidxdk', 'samsung2014xdk', 'pchls', 'atv',\n",
              "       'xboxonexdk', 'samsung2016xdk', 'lg2013xdk', 'samsung2012xdk',\n",
              "       'lg2014xdk', 'ps3xdk', 'lg2015xdk', 'panasonic2014', 'pcdashpr',\n",
              "       'philips2017xdk', 'lg2018xdk', 'samsung2018xdk', 'lg2012xdk', 'pc'],\n",
              "      dtype=object)"
            ]
          },
          "metadata": {
            "tags": []
          },
          "execution_count": 35
        }
      ]
    },
    {
      "cell_type": "code",
      "metadata": {
        "colab": {
          "base_uri": "https://localhost:8080/"
        },
        "id": "ifIwYh7cGp6s",
        "outputId": "88ae3719-19dd-4c06-8f74-ee651e1fd0cb"
      },
      "source": [
        "df['country_code'].unique()"
      ],
      "execution_count": 36,
      "outputs": [
        {
          "output_type": "execute_result",
          "data": {
            "text/plain": [
              "array(['no', 'dk', 'se', 'fi'], dtype=object)"
            ]
          },
          "metadata": {
            "tags": []
          },
          "execution_count": 36
        }
      ]
    },
    {
      "cell_type": "code",
      "metadata": {
        "colab": {
          "base_uri": "https://localhost:8080/"
        },
        "id": "ZK6wWYTjGp17",
        "outputId": "5b7a927d-53d4-473f-a03a-b3cb97893e44"
      },
      "source": [
        "df['product_type'].unique()"
      ],
      "execution_count": 37,
      "outputs": [
        {
          "output_type": "execute_result",
          "data": {
            "text/plain": [
              "array(['svod'], dtype=object)"
            ]
          },
          "metadata": {
            "tags": []
          },
          "execution_count": 37
        }
      ]
    },
    {
      "cell_type": "markdown",
      "metadata": {
        "id": "_OriVp8cHA4r"
      },
      "source": [
        "UNIVARIATE ANALYSIS"
      ]
    },
    {
      "cell_type": "code",
      "metadata": {
        "colab": {
          "base_uri": "https://localhost:8080/",
          "height": 607
        },
        "id": "w8DSjzW3HB9U",
        "outputId": "bcfc63a4-88f7-4928-dad6-7a69639c4557"
      },
      "source": [
        "df.hist(figsize=(10,10))\r\n",
        "plt.show()"
      ],
      "execution_count": 38,
      "outputs": [
        {
          "output_type": "display_data",
          "data": {
            "image/png": "[encoded data removed]",
            "text/plain": [
              "<Figure size 720x720 with 1 Axes>"
            ]
          },
          "metadata": {
            "tags": [],
            "needs_background": "light"
          }
        }
      ]
    },
    {
      "cell_type": "markdown",
      "metadata": {
        "id": "2tmlE_yYHK1H"
      },
      "source": [
        "Distribution Plot of feature"
      ]
    },
    {
      "cell_type": "code",
      "metadata": {
        "colab": {
          "base_uri": "https://localhost:8080/",
          "height": 348
        },
        "id": "B4uilscGHMMK",
        "outputId": "e4518527-6ec8-42cb-a49b-120c8e3a9f11"
      },
      "source": [
        "sns.distplot(df['season'])"
      ],
      "execution_count": 39,
      "outputs": [
        {
          "output_type": "stream",
          "text": [
            "/usr/local/lib/python3.6/dist-packages/seaborn/distributions.py:2557: FutureWarning: `distplot` is a deprecated function and will be removed in a future version. Please adapt your code to use either `displot` (a figure-level function with similar flexibility) or `histplot` (an axes-level function for histograms).\n",
            "  warnings.warn(msg, FutureWarning)\n"
          ],
          "name": "stderr"
        },
        {
          "output_type": "execute_result",
          "data": {
            "text/plain": [
              "<matplotlib.axes._subplots.AxesSubplot at 0x7f022eb3b630>"
            ]
          },
          "metadata": {
            "tags": []
          },
          "execution_count": 39
        },
        {
          "output_type": "display_data",
          "data": {
            "image/png": "[encoded data removed]",
            "text/plain": [
              "<Figure size 432x288 with 1 Axes>"
            ]
          },
          "metadata": {
            "tags": [],
            "needs_background": "light"
          }
        }
      ]
    }
  ]
}