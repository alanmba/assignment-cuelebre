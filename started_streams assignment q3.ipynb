{
 "cells": [
  {
   "cell_type": "code",
   "execution_count": 1,
   "metadata": {},
   "outputs": [],
   "source": [
    "import numpy as np\n",
    "import pandas as pd\n",
    "import matplotlib.pyplot as plt\n",
    "import seaborn as sns"
   ]
  },
  {
   "cell_type": "code",
   "execution_count": 2,
   "metadata": {},
   "outputs": [
    {
     "data": {
      "text/html": [
       "<div>\n",
       "<style scoped>\n",
       "    .dataframe tbody tr th:only-of-type {\n",
       "        vertical-align: middle;\n",
       "    }\n",
       "\n",
       "    .dataframe tbody tr th {\n",
       "        vertical-align: top;\n",
       "    }\n",
       "\n",
       "    .dataframe thead th {\n",
       "        text-align: right;\n",
       "    }\n",
       "</style>\n",
       "<table border=\"1\" class=\"dataframe\">\n",
       "  <thead>\n",
       "    <tr style=\"text-align: right;\">\n",
       "      <th></th>\n",
       "      <th>dt</th>\n",
       "      <th>time</th>\n",
       "      <th>device_name</th>\n",
       "      <th>house_number</th>\n",
       "      <th>user_id</th>\n",
       "      <th>country_code</th>\n",
       "      <th>program_title</th>\n",
       "      <th>season</th>\n",
       "      <th>season_episode</th>\n",
       "      <th>genre</th>\n",
       "      <th>product_type</th>\n",
       "    </tr>\n",
       "  </thead>\n",
       "  <tbody>\n",
       "    <tr>\n",
       "      <th>0</th>\n",
       "      <td>2018-10-01</td>\n",
       "      <td>09:19:15</td>\n",
       "      <td>pcdash</td>\n",
       "      <td>20431077</td>\n",
       "      <td>CFB707615C2C9132</td>\n",
       "      <td>no</td>\n",
       "      <td>Peppa Pig</td>\n",
       "      <td>2.0</td>\n",
       "      <td>S02E16</td>\n",
       "      <td>Series Kids</td>\n",
       "      <td>svod</td>\n",
       "    </tr>\n",
       "    <tr>\n",
       "      <th>1</th>\n",
       "      <td>2018-10-01</td>\n",
       "      <td>08:53:53</td>\n",
       "      <td>pcdash</td>\n",
       "      <td>20431072</td>\n",
       "      <td>CFB707615C2C9132</td>\n",
       "      <td>no</td>\n",
       "      <td>Peppa Pig</td>\n",
       "      <td>2.0</td>\n",
       "      <td>S02E11</td>\n",
       "      <td>Series Kids</td>\n",
       "      <td>svod</td>\n",
       "    </tr>\n",
       "    <tr>\n",
       "      <th>2</th>\n",
       "      <td>2018-10-01</td>\n",
       "      <td>20:24:34</td>\n",
       "      <td>pcdash</td>\n",
       "      <td>20209083</td>\n",
       "      <td>BzUtTh1jOyTjDIdW_7TDYSSyb2_VUrIO</td>\n",
       "      <td>dk</td>\n",
       "      <td>South Park</td>\n",
       "      <td>6.0</td>\n",
       "      <td>S06E08</td>\n",
       "      <td>Series Other</td>\n",
       "      <td>svod</td>\n",
       "    </tr>\n",
       "    <tr>\n",
       "      <th>3</th>\n",
       "      <td>2018-10-01</td>\n",
       "      <td>11:06:11</td>\n",
       "      <td>chromecast</td>\n",
       "      <td>20526429</td>\n",
       "      <td>STgzPEiXcj3olSd0ZEgeAypdXHb_tcrj</td>\n",
       "      <td>no</td>\n",
       "      <td>Adventure Time</td>\n",
       "      <td>9.0</td>\n",
       "      <td>S09E09</td>\n",
       "      <td>Series Kids</td>\n",
       "      <td>svod</td>\n",
       "    </tr>\n",
       "    <tr>\n",
       "      <th>4</th>\n",
       "      <td>2018-10-01</td>\n",
       "      <td>17:13:08</td>\n",
       "      <td>ios</td>\n",
       "      <td>20480461</td>\n",
       "      <td>8E0DF454830A552A</td>\n",
       "      <td>no</td>\n",
       "      <td>Teenage Mutant Ninja Turtles</td>\n",
       "      <td>4.0</td>\n",
       "      <td>S04E03</td>\n",
       "      <td>Series Kids</td>\n",
       "      <td>svod</td>\n",
       "    </tr>\n",
       "    <tr>\n",
       "      <th>...</th>\n",
       "      <td>...</td>\n",
       "      <td>...</td>\n",
       "      <td>...</td>\n",
       "      <td>...</td>\n",
       "      <td>...</td>\n",
       "      <td>...</td>\n",
       "      <td>...</td>\n",
       "      <td>...</td>\n",
       "      <td>...</td>\n",
       "      <td>...</td>\n",
       "      <td>...</td>\n",
       "    </tr>\n",
       "    <tr>\n",
       "      <th>99995</th>\n",
       "      <td>2018-10-01</td>\n",
       "      <td>17:53:39</td>\n",
       "      <td>pcdash</td>\n",
       "      <td>V23476</td>\n",
       "      <td>9cXptZ6KBZa3GKr8ql1ScIGJJ7gxbkeb</td>\n",
       "      <td>dk</td>\n",
       "      <td>24</td>\n",
       "      <td>2.0</td>\n",
       "      <td>S02E12</td>\n",
       "      <td>Series Other</td>\n",
       "      <td>svod</td>\n",
       "    </tr>\n",
       "    <tr>\n",
       "      <th>99996</th>\n",
       "      <td>2018-10-01</td>\n",
       "      <td>00:13:14</td>\n",
       "      <td>androiddash</td>\n",
       "      <td>S89817</td>\n",
       "      <td>tiuXC4_Vq96LgAsuV4mraF1YMklcjCO7</td>\n",
       "      <td>se</td>\n",
       "      <td>Tempelriddernes skat</td>\n",
       "      <td>NaN</td>\n",
       "      <td>NaN</td>\n",
       "      <td>Movies Other</td>\n",
       "      <td>svod</td>\n",
       "    </tr>\n",
       "    <tr>\n",
       "      <th>99997</th>\n",
       "      <td>2018-10-01</td>\n",
       "      <td>19:24:16</td>\n",
       "      <td>chromecast</td>\n",
       "      <td>20519544</td>\n",
       "      <td>ZNUqQO8GO6wcjnO5YY_q1BC36568Cpkz</td>\n",
       "      <td>dk</td>\n",
       "      <td>Robinson Ekspeditionen</td>\n",
       "      <td>20.0</td>\n",
       "      <td>S20E06</td>\n",
       "      <td>Own Production</td>\n",
       "      <td>svod</td>\n",
       "    </tr>\n",
       "    <tr>\n",
       "      <th>99998</th>\n",
       "      <td>2018-10-01</td>\n",
       "      <td>11:17:11</td>\n",
       "      <td>ios</td>\n",
       "      <td>20428581</td>\n",
       "      <td>4074475EA0B47F87</td>\n",
       "      <td>se</td>\n",
       "      <td>SpongeBob SquarePants</td>\n",
       "      <td>1.0</td>\n",
       "      <td>S01E07</td>\n",
       "      <td>Series Kids</td>\n",
       "      <td>svod</td>\n",
       "    </tr>\n",
       "    <tr>\n",
       "      <th>99999</th>\n",
       "      <td>2018-10-01</td>\n",
       "      <td>15:28:49</td>\n",
       "      <td>pcdash</td>\n",
       "      <td>20501983</td>\n",
       "      <td>593316F0F3AFAB2E</td>\n",
       "      <td>se</td>\n",
       "      <td>Paradise Hotel Sverige</td>\n",
       "      <td>9.0</td>\n",
       "      <td>S09E13</td>\n",
       "      <td>Own Production</td>\n",
       "      <td>svod</td>\n",
       "    </tr>\n",
       "  </tbody>\n",
       "</table>\n",
       "<p>100000 rows × 11 columns</p>\n",
       "</div>"
      ],
      "text/plain": [
       "              dt      time  device_name house_number  \\\n",
       "0     2018-10-01  09:19:15       pcdash     20431077   \n",
       "1     2018-10-01  08:53:53       pcdash     20431072   \n",
       "2     2018-10-01  20:24:34       pcdash     20209083   \n",
       "3     2018-10-01  11:06:11   chromecast     20526429   \n",
       "4     2018-10-01  17:13:08          ios     20480461   \n",
       "...          ...       ...          ...          ...   \n",
       "99995 2018-10-01  17:53:39       pcdash       V23476   \n",
       "99996 2018-10-01  00:13:14  androiddash       S89817   \n",
       "99997 2018-10-01  19:24:16   chromecast     20519544   \n",
       "99998 2018-10-01  11:17:11          ios     20428581   \n",
       "99999 2018-10-01  15:28:49       pcdash     20501983   \n",
       "\n",
       "                                user_id country_code  \\\n",
       "0                      CFB707615C2C9132           no   \n",
       "1                      CFB707615C2C9132           no   \n",
       "2      BzUtTh1jOyTjDIdW_7TDYSSyb2_VUrIO           dk   \n",
       "3      STgzPEiXcj3olSd0ZEgeAypdXHb_tcrj           no   \n",
       "4                      8E0DF454830A552A           no   \n",
       "...                                 ...          ...   \n",
       "99995  9cXptZ6KBZa3GKr8ql1ScIGJJ7gxbkeb           dk   \n",
       "99996  tiuXC4_Vq96LgAsuV4mraF1YMklcjCO7           se   \n",
       "99997  ZNUqQO8GO6wcjnO5YY_q1BC36568Cpkz           dk   \n",
       "99998                  4074475EA0B47F87           se   \n",
       "99999                  593316F0F3AFAB2E           se   \n",
       "\n",
       "                      program_title  season season_episode           genre  \\\n",
       "0                         Peppa Pig     2.0         S02E16     Series Kids   \n",
       "1                         Peppa Pig     2.0         S02E11     Series Kids   \n",
       "2                        South Park     6.0         S06E08    Series Other   \n",
       "3                    Adventure Time     9.0         S09E09     Series Kids   \n",
       "4      Teenage Mutant Ninja Turtles     4.0         S04E03     Series Kids   \n",
       "...                             ...     ...            ...             ...   \n",
       "99995                            24     2.0         S02E12    Series Other   \n",
       "99996          Tempelriddernes skat     NaN            NaN    Movies Other   \n",
       "99997        Robinson Ekspeditionen    20.0         S20E06  Own Production   \n",
       "99998         SpongeBob SquarePants     1.0         S01E07     Series Kids   \n",
       "99999        Paradise Hotel Sverige     9.0         S09E13  Own Production   \n",
       "\n",
       "      product_type  \n",
       "0             svod  \n",
       "1             svod  \n",
       "2             svod  \n",
       "3             svod  \n",
       "4             svod  \n",
       "...            ...  \n",
       "99995         svod  \n",
       "99996         svod  \n",
       "99997         svod  \n",
       "99998         svod  \n",
       "99999         svod  \n",
       "\n",
       "[100000 rows x 11 columns]"
      ]
     },
     "execution_count": 2,
     "metadata": {},
     "output_type": "execute_result"
    }
   ],
   "source": [
    "df=pd.read_excel(\"newstarted.xlsx\")\n",
    "df"
   ]
  },
  {
   "cell_type": "code",
   "execution_count": 4,
   "metadata": {},
   "outputs": [
    {
     "data": {
      "text/plain": [
       "dt                datetime64[ns]\n",
       "time                      object\n",
       "device_name               object\n",
       "house_number              object\n",
       "user_id                   object\n",
       "country_code              object\n",
       "program_title             object\n",
       "season                   float64\n",
       "season_episode            object\n",
       "genre                     object\n",
       "product_type              object\n",
       "dtype: object"
      ]
     },
     "execution_count": 4,
     "metadata": {},
     "output_type": "execute_result"
    }
   ],
   "source": [
    "df.dtypes"
   ]
  },
  {
   "cell_type": "code",
   "execution_count": 11,
   "metadata": {},
   "outputs": [
    {
     "data": {
      "image/png": "[encoded data removed]",
      "text/plain": [
       "<Figure size 432x288 with 1 Axes>"
      ]
     },
     "metadata": {
      "needs_background": "light"
     },
     "output_type": "display_data"
    }
   ],
   "source": [
    "# Top 10 genre\n",
    "Top10 = pd.DataFrame({'No of Genre':df['genre'].value_counts().head(10)})\n",
    "Top10.plot.bar(color='grey')\n",
    "plt.title('Top 10 genre')\n",
    "plt.show()"
   ]
  },
  {
   "cell_type": "code",
   "execution_count": 18,
   "metadata": {},
   "outputs": [
    {
     "data": {
      "image/png": "[encoded data removed]",
      "text/plain": [
       "<Figure size 432x288 with 1 Axes>"
      ]
     },
     "metadata": {
      "needs_background": "light"
     },
     "output_type": "display_data"
    }
   ],
   "source": [
    "# Top 10 unique users\n",
    "Top10 = pd.DataFrame({'No of unique users':df['user_id'].value_counts().head(10)})\n",
    "Top10.plot.bar(color='grey')\n",
    "plt.title('Top 10 unique users')\n",
    "plt.show()"
   ]
  },
  {
   "cell_type": "code",
   "execution_count": 20,
   "metadata": {},
   "outputs": [
    {
     "data": {
      "text/plain": [
       "Index(['dt', 'time', 'device_name', 'house_number', 'user_id', 'country_code',\n",
       "       'program_title', 'season', 'season_episode', 'genre', 'product_type'],\n",
       "      dtype='object')"
      ]
     },
     "execution_count": 20,
     "metadata": {},
     "output_type": "execute_result"
    }
   ],
   "source": [
    "df.columns"
   ]
  }
 ],
 "metadata": {
  "kernelspec": {
   "display_name": "Python 3",
   "language": "python",
   "name": "python3"
  },
  "language_info": {
   "codemirror_mode": {
    "name": "ipython",
    "version": 3
   },
   "file_extension": ".py",
   "mimetype": "text/x-python",
   "name": "python",
   "nbconvert_exporter": "python",
   "pygments_lexer": "ipython3",
   "version": "3.8.3"
  }
 },
 "nbformat": 4,
 "nbformat_minor": 4
}
